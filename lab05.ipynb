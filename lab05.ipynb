{
  "cells": [
    {
      "cell_type": "markdown",
      "metadata": {
        "id": "8HzFiBnDuNcZ"
      },
      "source": [
        "## Lab 05"
      ]
    },
    {
      "cell_type": "markdown",
      "metadata": {
        "id": "NXxT3_S8uNcc"
      },
      "source": [
        "#### Elementy programowania funkcyjnego\n",
        "Zaimplementuj poniższe funkcje tak, aby działały identycznie jak ich wbudowane opdowiedniki. Pamiętaj, że w Pythonie3 te funkcje zwracają generatory. W razie wątpliwości co do nietypowego zachowania tych funkcji odsyłam do <a href=\"https://docs.python.org/3/library/functions.html\">dokumentacji</a>."
      ]
    },
    {
      "cell_type": "markdown",
      "metadata": {
        "id": "FiTNE7NquNcc"
      },
      "source": [
        "## Zadanie 1"
      ]
    },
    {
      "cell_type": "code",
      "execution_count": 2,
      "metadata": {
        "id": "N6RYQJXKuNcd",
        "outputId": "0e98ce47-77c8-43e4-d006-c08f358b6e8b",
        "colab": {
          "base_uri": "https://localhost:8080/"
        }
      },
      "outputs": [
        {
          "output_type": "stream",
          "name": "stdout",
          "text": [
            "True\n",
            "True\n",
            "True\n",
            "True\n",
            "True\n"
          ]
        }
      ],
      "source": [
        "def _filter(func=None, iterable=[]):\n",
        "  #\"\"\"Filtruje z iterable elementy, dla których funkcja func zwraca False zostawiając pozostałe\"\"\"\n",
        "  func = func or (lambda x: x)\n",
        "  for iter in iterable:\n",
        "    if func(iter):\n",
        "      yield iter\n",
        "\n",
        "from types import GeneratorType\n",
        "print(isinstance(_filter(), GeneratorType))\n",
        "print(list(filter(lambda x: x > 0, [0, -3, 1, 6])) == list(_filter(lambda x: x > 0, [0, -3, 1, 6])))\n",
        "print(list(filter(None, [2, -3, 1, 6])) == list(_filter(None, [2, -3, 1, 6])))\n",
        "print(list(filter(None, [True, False, False])) == list(_filter(None, [True, False, False])))\n",
        "print(list(filter(None, [0, -3, 1, 6])) == list(_filter(None, [0, -3, 1, 6])))"
      ]
    },
    {
      "cell_type": "markdown",
      "metadata": {
        "id": "vRYDlKINuNce"
      },
      "source": [
        "## Zadanie 2"
      ]
    },
    {
      "cell_type": "code",
      "execution_count": 4,
      "metadata": {
        "id": "4PORpKfBuNce",
        "outputId": "97517925-a9f7-4431-a52b-7b94f120eb3a",
        "colab": {
          "base_uri": "https://localhost:8080/"
        }
      },
      "outputs": [
        {
          "output_type": "stream",
          "name": "stdout",
          "text": [
            "True\n",
            "True\n",
            "True\n"
          ]
        }
      ],
      "source": [
        "def _map(func, iterable, *args):\n",
        "  #\"\"\"Mapuje elementy iterable na wartości fuknckji func\"\"\"\n",
        "  func = func or (lambda x: x)\n",
        "  for iter in zip(iterable, *args):\n",
        "    yield func(*iter)\n",
        "\n",
        "\n",
        "\n",
        "from types import GeneratorType\n",
        "print(isinstance(_map(None, None), GeneratorType))\n",
        "print(list(map(lambda x: x.upper(), 'ala ma kota')) == list(_map(lambda x: x.upper(), 'ala ma kota')))\n",
        "print(list(map(lambda x,y: x+y, [1,2,3,4], [5,6,7,8])) == list(_map(lambda x,y: x+y, [1,2,3,4], [5,6,7,8])))"
      ]
    },
    {
      "cell_type": "markdown",
      "metadata": {
        "id": "fKO5a_PKuNce"
      },
      "source": [
        "## Zadanie 3"
      ]
    },
    {
      "cell_type": "markdown",
      "metadata": {
        "id": "1rVRRTJIuNcf"
      },
      "source": [
        "Napisz poniższą funkcję korzystając wyłącznie z funkcji reduce, map i filter oraz lambd"
      ]
    },
    {
      "cell_type": "code",
      "execution_count": 5,
      "metadata": {
        "id": "0rhV2paduNcf",
        "outputId": "1cc52f09-cdb1-47c8-9cc7-4dc870069300",
        "colab": {
          "base_uri": "https://localhost:8080/"
        }
      },
      "outputs": [
        {
          "output_type": "stream",
          "name": "stdout",
          "text": [
            "True\n",
            "True\n"
          ]
        }
      ],
      "source": [
        "def reverse_nonpalindromes(words):\n",
        "  odwrocone=map(lambda x: x[::-1] , words)\n",
        "  return list(filter(lambda x: x!=x[::-1], odwrocone))\n",
        "  #\"\"\"Zwraca listę odwróconych słowa które nie są palindromami.\n",
        "  #Palindromy zostają pominięte\"\"\"\n",
        "\n",
        "print(reverse_nonpalindromes([\"aa\", \"ab\"])==[\"ba\"])\n",
        "print(reverse_nonpalindromes([\"eht\", \"dog\", \"ala\"])==[\"the\", \"god\"])"
      ]
    },
    {
      "cell_type": "markdown",
      "metadata": {
        "id": "coXkd3o_uNcg"
      },
      "source": [
        "## Zadanie 4"
      ]
    },
    {
      "cell_type": "markdown",
      "metadata": {
        "id": "9zYCa-JjuNcg"
      },
      "source": [
        "Przepisz poniższą funkcję korzystając wyłącznie z funkcji reduce, map i filter oraz lambd"
      ]
    },
    {
      "cell_type": "code",
      "execution_count": 6,
      "metadata": {
        "id": "g1VrXOI3uNch",
        "outputId": "6f39a7c4-9972-4f43-fb42-7af0e203c33c",
        "colab": {
          "base_uri": "https://localhost:8080/"
        }
      },
      "outputs": [
        {
          "output_type": "stream",
          "name": "stdout",
          "text": [
            "True\n",
            "True\n"
          ]
        }
      ],
      "source": [
        "from functools import reduce\n",
        "\n",
        "def squares_of_odds(values):\n",
        "  nieparzyste=filter(lambda x:x%2!=0,values)\n",
        "  kwadraty=map(lambda x:x**2, nieparzyste)\n",
        "  return reduce(lambda a, b: a+b, kwadraty)\n",
        "  #\"\"\"Zwraca sumę kwadratów nieparzystych liczb\"\"\"\n",
        "  #return sum(v**2 for v in values if v%2)\n",
        "\n",
        "print(squares_of_odds([1,2,3,4,5,6])==35)\n",
        "print(squares_of_odds([10, 13, 5, 6])==194)"
      ]
    },
    {
      "cell_type": "markdown",
      "metadata": {
        "id": "pGgSEdgCuNch"
      },
      "source": [
        "## Zadanie 5"
      ]
    },
    {
      "cell_type": "markdown",
      "metadata": {
        "id": "3EDk-MrQuNch"
      },
      "source": [
        "Przepisz poniższą funkcję korzystając wyłącznie z funkcji reduce, map i filter oraz lambd"
      ]
    },
    {
      "cell_type": "code",
      "execution_count": 9,
      "metadata": {
        "id": "pq0UHr1nuNch",
        "outputId": "c93eef83-180d-4f81-c159-cfda135c01f6",
        "colab": {
          "base_uri": "https://localhost:8080/"
        }
      },
      "outputs": [
        {
          "output_type": "stream",
          "name": "stdout",
          "text": [
            "True\n",
            "True\n",
            "True\n",
            "True\n"
          ]
        }
      ],
      "source": [
        "def all_are_positive(numbers):\n",
        "  return list(filter(lambda x:x>0, numbers)) == numbers\n",
        "  #\"\"\"zwraca czy wszystkie liczby są dodatnie\"\"\"\n",
        "\n",
        "print(all_are_positive([])) #PS: tu sie im wykraczy bez inicjalizatora :)\n",
        "print(all_are_positive([1,2,3]))\n",
        "print(not all_are_positive([-1,2,3]))\n",
        "print(not all_are_positive([5,6,-2,1]))\n"
      ]
    },
    {
      "cell_type": "markdown",
      "metadata": {
        "id": "JahZN10RuNci"
      },
      "source": [
        "## Zadanie 6"
      ]
    },
    {
      "cell_type": "markdown",
      "metadata": {
        "id": "ZYSLX-DsuNci"
      },
      "source": [
        "Przepisz poniższą funkcję korzystając wyłącznie z funkcji reduce, map i filter oraz lambd"
      ]
    },
    {
      "cell_type": "code",
      "execution_count": 10,
      "metadata": {
        "id": "8KIkRPqhuNci",
        "outputId": "03dec5f7-d204-4a15-a7a9-5cfb72ae82bb",
        "colab": {
          "base_uri": "https://localhost:8080/"
        }
      },
      "outputs": [
        {
          "output_type": "stream",
          "name": "stdout",
          "text": [
            "True\n",
            "True\n",
            "True\n"
          ]
        }
      ],
      "source": [
        "def flatten(lists):\n",
        "  return reduce(lambda x,y:x+y , lists)\n",
        "\n",
        "print(flatten([[]])==[])\n",
        "print(flatten([[1,2],[3,4]])==[1,2,3,4])\n",
        "print(flatten([[\"1\", 1.1],[]])==[\"1\", 1.1])"
      ]
    },
    {
      "cell_type": "markdown",
      "metadata": {
        "id": "6A1dfM9LuNci"
      },
      "source": [
        "-------"
      ]
    },
    {
      "cell_type": "markdown",
      "metadata": {
        "id": "rwCC_xTBuNci"
      },
      "source": [
        "#### Jednolinijkowce\n",
        "W poniższej serii zadań **nie** używaj list/dict/set comprehension, zamiast tego użyj paradygmatu funkcyjnego. Każde rozwiązanie powinno być jednolinijkowe."
      ]
    },
    {
      "cell_type": "markdown",
      "metadata": {
        "id": "Rr3itL05uNcj"
      },
      "source": [
        "## Zadanie 7"
      ]
    },
    {
      "cell_type": "code",
      "execution_count": 11,
      "metadata": {
        "id": "EhV1ZPhnuNcj",
        "outputId": "5302a4aa-b009-447a-a699-ead71b5d2d2c",
        "colab": {
          "base_uri": "https://localhost:8080/"
        }
      },
      "outputs": [
        {
          "output_type": "stream",
          "name": "stdout",
          "text": [
            "True\n",
            "True\n"
          ]
        }
      ],
      "source": [
        "def celsius_to_fahrenheit(x):\n",
        "  return list(map(lambda x:x*9/5+32, x))\n",
        "  #\"\"\"Konwertuje liste temperatur w stopniach Celsjusza do skali Fahrenheita\"\"\"\n",
        "  pass\n",
        "\n",
        "print(list(celsius_to_fahrenheit([0, 10, 100])) == [32.0, 50.0, 212.0])\n",
        "print(list(celsius_to_fahrenheit([-123, 0])) == [-189.4, 32.0])"
      ]
    },
    {
      "cell_type": "markdown",
      "metadata": {
        "id": "18yvqZO7uNcj"
      },
      "source": [
        "## Zadanie 8"
      ]
    },
    {
      "cell_type": "code",
      "execution_count": 17,
      "metadata": {
        "id": "rlc3_W8juNcj",
        "outputId": "48de9962-56a7-42a6-82e9-a684f24a2281",
        "colab": {
          "base_uri": "https://localhost:8080/"
        }
      },
      "outputs": [
        {
          "output_type": "stream",
          "name": "stdout",
          "text": [
            "True\n",
            "True\n",
            "True\n"
          ]
        }
      ],
      "source": [
        "from functools import reduce\n",
        "\n",
        "def product_greater_than(x, k=0):\n",
        "  return reduce(lambda x, y: x*y, filter(lambda z: z > k, x))\n",
        "  #\"\"\"Zwraca iloczyn liczb w liście x większych od k\"\"\"\n",
        "\n",
        "print(product_greater_than([1, 2, 3]) == 6)\n",
        "print(product_greater_than([1, 2, 3], 2) == 3)\n",
        "print(product_greater_than([-4, 5, 10, 23, 123], -5) == -565800)"
      ]
    },
    {
      "cell_type": "markdown",
      "metadata": {
        "id": "nI2S_z49uNcn"
      },
      "source": [
        "## Zadanie 9"
      ]
    },
    {
      "cell_type": "code",
      "execution_count": 21,
      "metadata": {
        "id": "KT5DddJuuNcn",
        "outputId": "5f220510-5159-439f-bff4-60df5f5dac4d",
        "colab": {
          "base_uri": "https://localhost:8080/"
        }
      },
      "outputs": [
        {
          "output_type": "stream",
          "name": "stdout",
          "text": [
            "True\n",
            "True\n",
            "True\n"
          ]
        }
      ],
      "source": [
        "from functools import reduce\n",
        "\n",
        "def create_sentence(x, k=0):\n",
        "    #\"\"\"Łączy słowa (o długości co najmniej k) z listy x w zdanie - nie używa reduce\"\"\"\n",
        "    return \" \".join(list(filter(lambda y: len(y) >= k, x)))\n",
        "\n",
        "print(create_sentence(['ala', 'ma', 'kota']) == 'ala ma kota')\n",
        "print(create_sentence(['ala']) == 'ala')\n",
        "print(create_sentence(['ala', 'ma', 'pieknego', 'kota'], k=3) == 'ala pieknego kota')"
      ]
    },
    {
      "cell_type": "markdown",
      "metadata": {
        "id": "jlNKt9yJuNcn"
      },
      "source": [
        "## Zadanie 10"
      ]
    },
    {
      "cell_type": "code",
      "execution_count": 24,
      "metadata": {
        "id": "NCFJS0EuuNcn",
        "outputId": "62f7ea48-3936-496a-92de-6f177a4f6145",
        "colab": {
          "base_uri": "https://localhost:8080/"
        }
      },
      "outputs": [
        {
          "output_type": "stream",
          "name": "stdout",
          "text": [
            "True\n",
            "True\n",
            "True\n",
            "True\n"
          ]
        }
      ],
      "source": [
        "def tuple_if_sum_greater(k, *lists):\n",
        "    #\"\"\"Zwraca k-elementową krotke składającą się z kolejnych elementów list podanych jako arguemnty pozycyjne,\n",
        "    #   jeżeli ich suma jest większa niż parametr k\"\"\"\n",
        "    return (filter(lambda *x: sum(*x) > k, zip(*lists)))\n",
        "\n",
        "\n",
        "print(list(tuple_if_sum_greater(0, [1,2,3])) == [(1,),(2,),(3,)])\n",
        "print(list(tuple_if_sum_greater(4, [1,2,3], [2,3,4])) == [(2,3),(3,4)])\n",
        "print(list(tuple_if_sum_greater(10, [1,2,3], [2,3,4])) == [])\n",
        "print(list(tuple_if_sum_greater(0, [1,2], [3,4], [5,6])) == [(1,3,5), (2,4,6)])"
      ]
    },
    {
      "cell_type": "markdown",
      "metadata": {
        "id": "U_frcYO4uNcn"
      },
      "source": [
        "## Zadanie 11"
      ]
    },
    {
      "cell_type": "code",
      "execution_count": 28,
      "metadata": {
        "id": "Bx8SVv4iuNcn",
        "outputId": "fc516068-8463-4ab3-9e08-99029e6f58cd",
        "colab": {
          "base_uri": "https://localhost:8080/"
        }
      },
      "outputs": [
        {
          "output_type": "stream",
          "name": "stdout",
          "text": [
            "True\n",
            "True\n",
            "True\n"
          ]
        }
      ],
      "source": [
        "from math import sqrt\n",
        "\n",
        "def primes(N):\n",
        "    #\"\"\"Zwraca zbiór liczb pierwszych od 0 do N włącznie\"\"\"\n",
        "    return set(filter(lambda x: list(filter(lambda y: x%y == 0, list(range(2, int(sqrt(x)) + 1)))) == [], list(range(2, N+1))))\n",
        "\n",
        "print(primes(5) == {2, 3, 5})\n",
        "print(primes(10) == {2, 3, 5, 7})\n",
        "print(primes(100) == {2, 3, 5, 7, 11, 13, 17, 19, 23, 29, 31, 37, 41,\n",
        "                      43, 47, 53, 59, 61, 67, 71, 73, 79, 83, 89, 97})"
      ]
    }
  ],
  "metadata": {
    "kernelspec": {
      "display_name": "Python 3",
      "language": "python",
      "name": "python3"
    },
    "language_info": {
      "codemirror_mode": {
        "name": "ipython",
        "version": 3
      },
      "file_extension": ".py",
      "mimetype": "text/x-python",
      "name": "python",
      "nbconvert_exporter": "python",
      "pygments_lexer": "ipython3",
      "version": "3.7.9"
    },
    "colab": {
      "provenance": []
    }
  },
  "nbformat": 4,
  "nbformat_minor": 0
}