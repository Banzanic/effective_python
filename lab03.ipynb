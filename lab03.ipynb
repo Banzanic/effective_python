{
  "cells": [
    {
      "cell_type": "markdown",
      "metadata": {
        "id": "6kLhm5qlkDgP"
      },
      "source": [
        "## Lab 03"
      ]
    },
    {
      "cell_type": "markdown",
      "metadata": {
        "id": "aVe6PtNrkDgR"
      },
      "source": [
        "## Zadanie 1"
      ]
    },
    {
      "cell_type": "markdown",
      "metadata": {
        "id": "PAdFwvyzkDgS"
      },
      "source": [
        "a) Napisz funkcję, która wypisuje wiadomość opcjonalnie wraz z podaną wartością"
      ]
    },
    {
      "cell_type": "code",
      "execution_count": 1,
      "metadata": {
        "id": "1iWk4y7EkDgS",
        "outputId": "9f17cdc2-63fd-4298-fd64-5b678633524b",
        "colab": {
          "base_uri": "https://localhost:8080/"
        }
      },
      "outputs": [
        {
          "output_type": "stream",
          "name": "stdout",
          "text": [
            "Hello World!\n",
            "The value is: 42\n"
          ]
        }
      ],
      "source": [
        "def log(first, *args):\n",
        "  #\" Wypisuje wiadomość opcjonalnie wraz z podaną wartością \"\n",
        "  print (first, end=\"\")\n",
        "  for arg in args:\n",
        "    print(\":\",arg, end=\"\")\n",
        "  print ()\n",
        "\n",
        "log(\"Hello World!\") # Hello World!\n",
        "log(\"The value is\", 42) # The value is: 42"
      ]
    },
    {
      "cell_type": "markdown",
      "metadata": {
        "id": "ZUbHjb5HkDgU"
      },
      "source": [
        "b) Napisz funkcję, która zwraca średnią z podanych liczb"
      ]
    },
    {
      "cell_type": "code",
      "execution_count": 2,
      "metadata": {
        "id": "mV0P0S9ZkDgU",
        "outputId": "978d25b7-dbc1-43ed-fd04-5d2dc5c5445e",
        "colab": {
          "base_uri": "https://localhost:8080/"
        }
      },
      "outputs": [
        {
          "output_type": "stream",
          "name": "stdout",
          "text": [
            "True\n",
            "True\n",
            "True\n"
          ]
        }
      ],
      "source": [
        "def mean(*args):\n",
        "  #\"\"\"Zwraca średnią liczb podanych jako argumenty pozycyjne\"\"\"\n",
        "  return sum(args)/len(args)\n",
        "\n",
        "print(mean(1,2,3) == 2)\n",
        "print(mean(2,2,4,4) == 3)\n",
        "print(mean(1,2,3,4,5,61,2,12,123,123) == 33.6)"
      ]
    },
    {
      "cell_type": "markdown",
      "metadata": {
        "id": "SVcsRh4AkDgV"
      },
      "source": [
        "c) Napisz funkcję, która sprawdza, czy w danym słowniku znajduje się conajmniej podana liczba elementów"
      ]
    },
    {
      "cell_type": "code",
      "execution_count": 3,
      "metadata": {
        "id": "UYCcINnhkDgV",
        "outputId": "a15c010a-026a-4383-b403-95f65a548a17",
        "colab": {
          "base_uri": "https://localhost:8080/"
        }
      },
      "outputs": [
        {
          "output_type": "stream",
          "name": "stdout",
          "text": [
            "True\n",
            "True\n",
            "True\n",
            "True\n",
            "True\n",
            "True\n"
          ]
        }
      ],
      "source": [
        "def check_dictionary_content(first,**kwargs):\n",
        "  #\"\"\"Sprawdza, czy w danym słowniku znajduje się conajmniej podana liczba elementów\"\"\"\n",
        "  for k in kwargs:\n",
        "    ilosc1=kwargs.get(k)\n",
        "    if first.get(k) == None and ilosc1 > 0:\n",
        "      return False\n",
        "    for f in first:\n",
        "      if f==k:\n",
        "        ilosc2=first.get(f)\n",
        "        if(ilosc2<ilosc1):\n",
        "          return False\n",
        "  return True\n",
        "  pass\n",
        "\n",
        "d = {'orange': 3, 'apple': 1, 'dogs': 10}\n",
        "print(check_dictionary_content(d, orange=2) == True)\n",
        "print(check_dictionary_content(d, orange=2, apple=1) == True)\n",
        "print(check_dictionary_content(d, dogs=11) == False)\n",
        "print(check_dictionary_content(d, dogs=9, cats=0) == True)\n",
        "print(check_dictionary_content(d, apple=0, cats=1) == False)\n",
        "print(check_dictionary_content(d, **d) == True)"
      ]
    },
    {
      "cell_type": "markdown",
      "metadata": {
        "id": "pbM9hKZWkDgW"
      },
      "source": [
        "## Zadanie 2\n",
        "Napisz funkcję która dla listy liczb zwróci listę częściowych udziałów w sumie tych liczb"
      ]
    },
    {
      "cell_type": "code",
      "execution_count": 4,
      "metadata": {
        "id": "aXOMPt5rkDgW",
        "outputId": "1e3c6880-9de1-488a-d9af-8d471663e007",
        "colab": {
          "base_uri": "https://localhost:8080/"
        }
      },
      "outputs": [
        {
          "output_type": "stream",
          "name": "stdout",
          "text": [
            "True\n",
            "True\n",
            "True\n"
          ]
        }
      ],
      "source": [
        "def numbers_to_percents(values):\n",
        "  wynik=[]\n",
        "  for v in values:\n",
        "    wynik.append(v/sum(values))\n",
        "  return wynik\n",
        "print(numbers_to_percents([1,2,1])==[0.25, 0.5, 0.25])\n",
        "print(numbers_to_percents([1])==[1])\n",
        "print(numbers_to_percents([1,2,3,4])==[0.1, 0.2, 0.3, 0.4])"
      ]
    },
    {
      "cell_type": "markdown",
      "metadata": {
        "id": "8YU4JuPmkDgX"
      },
      "source": [
        "Co się stanie gdy jako wejście funkcji podamy generator? W jaki sposób możemy wykryć czy wejście jest listą czy iteratorem?"
      ]
    },
    {
      "cell_type": "code",
      "execution_count": 8,
      "metadata": {
        "id": "2joNnCcskDgY",
        "outputId": "70a54bdb-6686-422e-a738-33ed6f9a29a5",
        "colab": {
          "base_uri": "https://localhost:8080/"
        }
      },
      "outputs": [
        {
          "output_type": "stream",
          "name": "stdout",
          "text": [
            "[0.0]\n"
          ]
        }
      ],
      "source": [
        "print(numbers_to_percents(i for i in range(5)))"
      ]
    },
    {
      "cell_type": "markdown",
      "metadata": {
        "id": "ugXQoVmjkDgY"
      },
      "source": [
        "## Zadanie 3"
      ]
    },
    {
      "cell_type": "markdown",
      "metadata": {
        "id": "NJca5v-skDgY"
      },
      "source": [
        "a) Napisz funkcję `zwroc_rosnace` która dostanie na wejsciu funkcje jednoargumentową oraz argumenty do niej a następnie zwróci te argumenty dla których wynik jest większy od argumentu."
      ]
    },
    {
      "cell_type": "code",
      "execution_count": 5,
      "metadata": {
        "id": "fJAQcUuIkDgY",
        "outputId": "8cecf5d8-03e6-4782-958b-776eb0bcc0b9",
        "colab": {
          "base_uri": "https://localhost:8080/"
        }
      },
      "outputs": [
        {
          "output_type": "stream",
          "name": "stdout",
          "text": [
            "True\n",
            "True\n",
            "True\n"
          ]
        }
      ],
      "source": [
        "def zwroc_rosnace(first, *args):\n",
        "  wynik=[]\n",
        "  for arg in args:\n",
        "    if first(arg) > arg:\n",
        "      wynik.append(arg)\n",
        "  return wynik\n",
        "\n",
        "def f1(n):\n",
        "    return n**2-3*n\n",
        "\n",
        "def f2(n):\n",
        "    return 100-n\n",
        "\n",
        "def f3(word):\n",
        "    return word[::-1]\n",
        "\n",
        "print(zwroc_rosnace(f1, 4, 6, 2, -5)==[6, -5])\n",
        "print(zwroc_rosnace(f2, *range(100))==list(range(50)))\n",
        "print(zwroc_rosnace(f3, \"python\", \"nie\", \"jest\", \"bardzo\", \"fajny\")==['jest', 'bardzo', 'fajny'])"
      ]
    },
    {
      "cell_type": "markdown",
      "metadata": {
        "id": "8Pj4FPVjkDgZ"
      },
      "source": [
        "b) Dopisz drugą, podobną funkcję która będzie zwracać argumenty których wyniki są większe od wyników poprzedniego argumentu"
      ]
    },
    {
      "cell_type": "code",
      "execution_count": 6,
      "metadata": {
        "id": "npD1PLSAkDgZ",
        "outputId": "ff6a57ef-5b24-4444-a17e-4a397d668246",
        "colab": {
          "base_uri": "https://localhost:8080/"
        }
      },
      "outputs": [
        {
          "output_type": "stream",
          "name": "stdout",
          "text": [
            "True\n",
            "True\n",
            "True\n"
          ]
        }
      ],
      "source": [
        "def zwroc_rosnace(first, *args):\n",
        "  wynik=[]\n",
        "  last=[]\n",
        "  for arg in args:\n",
        "    if last != [] and first(arg) > first(last[-1]):\n",
        "      wynik.append(arg)\n",
        "    last.append(arg)\n",
        "  return wynik\n",
        "\n",
        "def f1(n):\n",
        "    return n**2-3*n\n",
        "\n",
        "def f2(n):\n",
        "    return 100-n\n",
        "\n",
        "def f3(word):\n",
        "    return word[::-1]\n",
        "\n",
        "print(zwroc_rosnace(f1, 4, -5, 6, 2)==[-5])\n",
        "print(zwroc_rosnace(f2, *range(100))==[])\n",
        "print(zwroc_rosnace(f3, \"python\", \"nie\", \"jest\", \"bardzo\", \"fajny\")==['jest', 'fajny'])"
      ]
    },
    {
      "cell_type": "markdown",
      "metadata": {
        "id": "AVGZ9kHhkDgZ"
      },
      "source": [
        "## Zadanie 4"
      ]
    },
    {
      "cell_type": "markdown",
      "metadata": {
        "id": "0SlBrRn2kDga"
      },
      "source": [
        "Napisz funkcję która będzie zwracała który raz jest wywoływana"
      ]
    },
    {
      "cell_type": "code",
      "execution_count": 7,
      "metadata": {
        "id": "2Z8CG1ockDga",
        "outputId": "d28c7d0d-66ba-4f3a-836c-aa26c663dd3f",
        "colab": {
          "base_uri": "https://localhost:8080/"
        }
      },
      "outputs": [
        {
          "output_type": "stream",
          "name": "stdout",
          "text": [
            "True\n",
            "True\n",
            "True\n"
          ]
        }
      ],
      "source": [
        "ilosc=0\n",
        "def ile_wywolana():\n",
        "  global ilosc\n",
        "  ilosc+=1\n",
        "  return ilosc\n",
        "\n",
        "\n",
        "print(ile_wywolana()==1)\n",
        "print(ile_wywolana()==2)\n",
        "print(ile_wywolana()==3)"
      ]
    },
    {
      "cell_type": "markdown",
      "metadata": {
        "id": "wUNF8cSEkDga"
      },
      "source": [
        "## Zadanie 5"
      ]
    },
    {
      "cell_type": "markdown",
      "metadata": {
        "id": "iWY7MJiikDga"
      },
      "source": [
        "Napisz generator zwracający nieskończony ciąg licz pierwszych"
      ]
    },
    {
      "cell_type": "code",
      "execution_count": 58,
      "metadata": {
        "id": "wdmhVyy7kDga",
        "outputId": "cae9793e-397a-4213-94c0-86bb25663532",
        "colab": {
          "base_uri": "https://localhost:8080/"
        }
      },
      "outputs": [
        {
          "output_type": "stream",
          "name": "stdout",
          "text": [
            "1\n",
            "2\n",
            "3\n",
            "5\n",
            "7\n",
            "11\n",
            "13\n",
            "17\n",
            "19\n",
            "23\n",
            "29\n",
            "31\n",
            "37\n",
            "41\n",
            "43\n",
            "47\n",
            "53\n",
            "59\n",
            "61\n",
            "67\n"
          ]
        }
      ],
      "source": [
        "def get_primes(n=1):\n",
        "  while(True):\n",
        "    if not any([x for x in range(2,n//2+1) if n%x==0]):\n",
        "      yield n\n",
        "    n+=1\n",
        "prime = get_primes()\n",
        "for i in range(20):\n",
        "  print(next(prime))"
      ]
    },
    {
      "cell_type": "markdown",
      "metadata": {
        "id": "tWWBGivokDgb"
      },
      "source": [
        "## Zadanie 6"
      ]
    },
    {
      "cell_type": "markdown",
      "metadata": {
        "id": "YvlW0z5DkDgb"
      },
      "source": [
        "Uzupełnij definicje poniższych funkcji/generatorów."
      ]
    },
    {
      "cell_type": "code",
      "execution_count": 18,
      "metadata": {
        "id": "c_KW7d1AkDgb",
        "outputId": "b5207f60-4f7a-4cd1-ef0f-6b2bac69ef2f",
        "colab": {
          "base_uri": "https://localhost:8080/"
        }
      },
      "outputs": [
        {
          "output_type": "stream",
          "name": "stdout",
          "text": [
            "True\n",
            "0 True\n",
            "1 True\n",
            "2 True\n",
            "3 True\n",
            "4 True\n",
            "5 True\n",
            "6 True\n",
            "7 True\n",
            "8 True\n",
            "9 True\n",
            "10 True\n",
            "11 True\n",
            "12 True\n",
            "13 True\n",
            "14 True\n",
            "15 True\n",
            "16 True\n",
            "17 True\n",
            "18 True\n",
            "19 True\n",
            "20 True\n",
            "21 True\n",
            "0 True\n",
            "1 True\n",
            "2 True\n",
            "3 True\n",
            "4 True\n",
            "5 True\n",
            "6 True\n",
            "7 True\n",
            "8 True\n",
            "9 True\n",
            "10 True\n",
            "11 True\n",
            "12 True\n",
            "13 True\n",
            "14 True\n",
            "15 True\n",
            "16 True\n",
            "17 True\n",
            "18 True\n",
            "19 True\n",
            "20 True\n",
            "21 True\n"
          ]
        }
      ],
      "source": [
        "def natural_numbers(k=0):\n",
        "  #\"\"\"Tworzy generator liczb naturalnych od liczby k\"\"\"\n",
        "  while True:\n",
        "    yield k\n",
        "    k+=1\n",
        "\n",
        "import types\n",
        "print(isinstance(natural_numbers(), types.GeneratorType))\n",
        "\n",
        "for i, n in enumerate(natural_numbers()):\n",
        "    print(i, i == n)\n",
        "    if i > 20:\n",
        "        break\n",
        "\n",
        "for i, n in enumerate(natural_numbers(1)):\n",
        "    print(i, i+1 == n)\n",
        "    if i > 20:\n",
        "        break"
      ]
    },
    {
      "cell_type": "code",
      "execution_count": 21,
      "metadata": {
        "id": "Vp3bofjLkDgc",
        "outputId": "35302813-1cca-45f1-8824-501e6ca4f85d",
        "colab": {
          "base_uri": "https://localhost:8080/"
        }
      },
      "outputs": [
        {
          "output_type": "stream",
          "name": "stdout",
          "text": [
            "True\n",
            "1 True\n",
            "1 True\n",
            "2 True\n",
            "6 True\n",
            "24 True\n",
            "120 True\n",
            "720 True\n",
            "5040 True\n"
          ]
        }
      ],
      "source": [
        "def factorials():\n",
        "  #\"\"\"Tworzy generator kolejnych silnii\"\"\"\n",
        "  next = 1\n",
        "  i = 1\n",
        "  while True:\n",
        "    yield i\n",
        "    i*=next\n",
        "    next+=1\n",
        "\n",
        "import types\n",
        "print(isinstance(factorials(), types.GeneratorType))\n",
        "\n",
        "results = [1, 1, 2, 6, 24, 120, 720, 5040]\n",
        "for truth, answer in zip(results, factorials()):\n",
        "    print(truth, truth == answer)"
      ]
    },
    {
      "cell_type": "markdown",
      "metadata": {
        "id": "JdUqPVKtkDgc"
      },
      "source": [
        "## Zadanie 7\n",
        "\n",
        "Napisz generator nieskończonego ciągu [liczb Fibonacciego](https://pl.wikipedia.org/wiki/Ci%C4%85g_Fibonacciego)."
      ]
    },
    {
      "cell_type": "code",
      "execution_count": 59,
      "metadata": {
        "id": "E8VtcZEnkDgc",
        "outputId": "98731280-8b59-4c73-cd56-150dfa528608",
        "colab": {
          "base_uri": "https://localhost:8080/"
        }
      },
      "outputs": [
        {
          "output_type": "stream",
          "name": "stdout",
          "text": [
            "0\n",
            "1\n",
            "1\n",
            "2\n",
            "3\n",
            "5\n",
            "8\n",
            "13\n",
            "21\n",
            "34\n",
            "55\n",
            "89\n",
            "144\n",
            "233\n",
            "377\n",
            "610\n",
            "987\n",
            "1597\n",
            "2584\n",
            "4181\n"
          ]
        }
      ],
      "source": [
        "def fib():\n",
        "  a = 0\n",
        "  b = 1\n",
        "  while True:\n",
        "    yield a\n",
        "    a, b = b, a + b\n",
        "\n",
        "fibonacci = fib()\n",
        "for i in range(20):\n",
        "  print(next(fibonacci))"
      ]
    }
  ],
  "metadata": {
    "kernelspec": {
      "display_name": "Python 3",
      "language": "python",
      "name": "python3"
    },
    "language_info": {
      "codemirror_mode": {
        "name": "ipython",
        "version": 3
      },
      "file_extension": ".py",
      "mimetype": "text/x-python",
      "name": "python",
      "nbconvert_exporter": "python",
      "pygments_lexer": "ipython3",
      "version": "3.7.9"
    },
    "colab": {
      "provenance": []
    }
  },
  "nbformat": 4,
  "nbformat_minor": 0
}