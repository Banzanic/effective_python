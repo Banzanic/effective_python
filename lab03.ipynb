{
  "cells": [
    {
      "cell_type": "markdown",
      "metadata": {
        "id": "6kLhm5qlkDgP"
      },
      "source": [
        "## Lab 03"
      ]
    },
    {
      "cell_type": "markdown",
      "metadata": {
        "id": "aVe6PtNrkDgR"
      },
      "source": [
        "## Zadanie 1"
      ]
    },
    {
      "cell_type": "markdown",
      "metadata": {
        "id": "PAdFwvyzkDgS"
      },
      "source": [
        "a) Napisz funkcję, która wypisuje wiadomość opcjonalnie wraz z podaną wartością"
      ]
    },
    {
      "cell_type": "code",
      "execution_count": 46,
      "metadata": {
        "id": "1iWk4y7EkDgS",
        "outputId": "a51818a0-3466-4747-e878-60a651841f1a",
        "colab": {
          "base_uri": "https://localhost:8080/"
        }
      },
      "outputs": [
        {
          "output_type": "stream",
          "name": "stdout",
          "text": [
            "Hello World!\n",
            "The value is: 42\n"
          ]
        }
      ],
      "source": [
        "def log(first, *args):\n",
        "  #\" Wypisuje wiadomość opcjonalnie wraz z podaną wartością \"\n",
        "  print (first, end=\"\")\n",
        "  for arg in args:\n",
        "    print(\":\",arg, end=\"\")\n",
        "  print ()\n",
        "\n",
        "log(\"Hello World!\") # Hello World!\n",
        "log(\"The value is\", 42) # The value is: 42"
      ]
    },
    {
      "cell_type": "markdown",
      "metadata": {
        "id": "ZUbHjb5HkDgU"
      },
      "source": [
        "b) Napisz funkcję, która zwraca średnią z podanych liczb"
      ]
    },
    {
      "cell_type": "code",
      "execution_count": 52,
      "metadata": {
        "id": "mV0P0S9ZkDgU",
        "outputId": "3ba00943-c58d-4ee0-91fb-8c153edfbf01",
        "colab": {
          "base_uri": "https://localhost:8080/"
        }
      },
      "outputs": [
        {
          "output_type": "stream",
          "name": "stdout",
          "text": [
            "True\n",
            "True\n",
            "True\n"
          ]
        }
      ],
      "source": [
        "def mean(*args):\n",
        "  #\"\"\"Zwraca średnią liczb podanych jako argumenty pozycyjne\"\"\"\n",
        "  return sum(args)/len(args)\n",
        "\n",
        "print(mean(1,2,3) == 2)\n",
        "print(mean(2,2,4,4) == 3)\n",
        "print(mean(1,2,3,4,5,61,2,12,123,123) == 33.6)"
      ]
    },
    {
      "cell_type": "markdown",
      "metadata": {
        "id": "SVcsRh4AkDgV"
      },
      "source": [
        "c) Napisz funkcję, która sprawdza, czy w danym słowniku znajduje się conajmniej podana liczba elementów"
      ]
    },
    {
      "cell_type": "code",
      "execution_count": 107,
      "metadata": {
        "id": "UYCcINnhkDgV",
        "outputId": "7ce4ab59-28ca-466f-c12f-49892cb668fb",
        "colab": {
          "base_uri": "https://localhost:8080/"
        }
      },
      "outputs": [
        {
          "output_type": "stream",
          "name": "stdout",
          "text": [
            "True\n",
            "True\n",
            "True\n",
            "True\n",
            "True\n",
            "True\n"
          ]
        }
      ],
      "source": [
        "def check_dictionary_content(first,**kwargs):\n",
        "  #\"\"\"Sprawdza, czy w danym słowniku znajduje się conajmniej podana liczba elementów\"\"\"\n",
        "  for k in kwargs:\n",
        "    ilosc1=kwargs.get(k)\n",
        "    if first.get(k) == None and ilosc1 > 0:\n",
        "      return False\n",
        "    for f in first:\n",
        "      if f==k:\n",
        "        ilosc2=first.get(f)\n",
        "        if(ilosc2<ilosc1):\n",
        "          return False\n",
        "  return True\n",
        "  pass\n",
        "\n",
        "d = {'orange': 3, 'apple': 1, 'dogs': 10}\n",
        "print(check_dictionary_content(d, orange=2) == True)\n",
        "print(check_dictionary_content(d, orange=2, apple=1) == True)\n",
        "print(check_dictionary_content(d, dogs=11) == False)\n",
        "print(check_dictionary_content(d, dogs=9, cats=0) == True)\n",
        "print(check_dictionary_content(d, apple=0, cats=1) == False)\n",
        "print(check_dictionary_content(d, **d) == True)"
      ]
    },
    {
      "cell_type": "markdown",
      "metadata": {
        "id": "pbM9hKZWkDgW"
      },
      "source": [
        "## Zadanie 2\n",
        "Napisz funkcję która dla listy liczb zwróci listę częściowych udziałów w sumie tych liczb"
      ]
    },
    {
      "cell_type": "code",
      "execution_count": 8,
      "metadata": {
        "id": "aXOMPt5rkDgW",
        "outputId": "4ab8a2ca-5577-4d73-8699-8b96a5d72317",
        "colab": {
          "base_uri": "https://localhost:8080/"
        }
      },
      "outputs": [
        {
          "output_type": "stream",
          "name": "stdout",
          "text": [
            "True\n",
            "True\n",
            "True\n"
          ]
        }
      ],
      "source": [
        "def numbers_to_percents(values):\n",
        "  wynik=[]\n",
        "  for v in values:\n",
        "    wynik.append(v/sum(values))\n",
        "  return wynik\n",
        "print(numbers_to_percents([1,2,1])==[0.25, 0.5, 0.25])\n",
        "print(numbers_to_percents([1])==[1])\n",
        "print(numbers_to_percents([1,2,3,4])==[0.1, 0.2, 0.3, 0.4])"
      ]
    },
    {
      "cell_type": "markdown",
      "metadata": {
        "id": "8YU4JuPmkDgX"
      },
      "source": [
        "Co się stanie gdy jako wejście funkcji podamy generator? W jaki sposób możemy wykryć czy wejście jest listą czy iteratorem?"
      ]
    },
    {
      "cell_type": "code",
      "execution_count": 9,
      "metadata": {
        "id": "2joNnCcskDgY",
        "outputId": "709c05a8-bfe0-4ff1-dc8d-bd29d327c735",
        "colab": {
          "base_uri": "https://localhost:8080/"
        }
      },
      "outputs": [
        {
          "output_type": "stream",
          "name": "stdout",
          "text": [
            "[0.0]\n"
          ]
        }
      ],
      "source": [
        "print(numbers_to_percents(i for i in range(5)))"
      ]
    },
    {
      "cell_type": "markdown",
      "metadata": {
        "id": "ugXQoVmjkDgY"
      },
      "source": [
        "## Zadanie 3"
      ]
    },
    {
      "cell_type": "markdown",
      "metadata": {
        "id": "NJca5v-skDgY"
      },
      "source": [
        "a) Napisz funkcję `zwroc_rosnace` która dostanie na wejsciu funkcje jednoargumentową oraz argumenty do niej a następnie zwróci te argumenty dla których wynik jest większy od argumentu."
      ]
    },
    {
      "cell_type": "code",
      "execution_count": 108,
      "metadata": {
        "id": "fJAQcUuIkDgY",
        "outputId": "9557c9b0-2b8e-42d6-f615-e945c74eae67",
        "colab": {
          "base_uri": "https://localhost:8080/"
        }
      },
      "outputs": [
        {
          "output_type": "stream",
          "name": "stdout",
          "text": [
            "True\n",
            "True\n",
            "True\n"
          ]
        }
      ],
      "source": [
        "def zwroc_rosnace(first, *args):\n",
        "  wynik=[]\n",
        "  for arg in args:\n",
        "    if first(arg) > arg:\n",
        "      wynik.append(arg)\n",
        "  return wynik\n",
        "\n",
        "def f1(n):\n",
        "    return n**2-3*n\n",
        "\n",
        "def f2(n):\n",
        "    return 100-n\n",
        "\n",
        "def f3(word):\n",
        "    return word[::-1]\n",
        "\n",
        "print(zwroc_rosnace(f1, 4, 6, 2, -5)==[6, -5])\n",
        "print(zwroc_rosnace(f2, *range(100))==list(range(50)))\n",
        "print(zwroc_rosnace(f3, \"python\", \"nie\", \"jest\", \"bardzo\", \"fajny\")==['jest', 'bardzo', 'fajny'])"
      ]
    },
    {
      "cell_type": "markdown",
      "metadata": {
        "id": "8Pj4FPVjkDgZ"
      },
      "source": [
        "b) Dopisz drugą, podobną funkcję która będzie zwracać argumenty których wyniki są większe od wyników poprzedniego argumentu"
      ]
    },
    {
      "cell_type": "code",
      "execution_count": 113,
      "metadata": {
        "id": "npD1PLSAkDgZ",
        "outputId": "c57530b5-824e-4744-cbc8-b59963a5125b",
        "colab": {
          "base_uri": "https://localhost:8080/"
        }
      },
      "outputs": [
        {
          "output_type": "stream",
          "name": "stdout",
          "text": [
            "True\n",
            "True\n",
            "True\n"
          ]
        }
      ],
      "source": [
        "def zwroc_rosnace(first, *args):\n",
        "  wynik=[]\n",
        "  last=[]\n",
        "  for arg in args:\n",
        "    if last != [] and first(arg) > first(last[-1]):\n",
        "      wynik.append(arg)\n",
        "    last.append(arg)\n",
        "  return wynik\n",
        "\n",
        "def f1(n):\n",
        "    return n**2-3*n\n",
        "\n",
        "def f2(n):\n",
        "    return 100-n\n",
        "\n",
        "def f3(word):\n",
        "    return word[::-1]\n",
        "\n",
        "print(zwroc_rosnace(f1, 4, -5, 6, 2)==[-5])\n",
        "print(zwroc_rosnace(f2, *range(100))==[])\n",
        "print(zwroc_rosnace(f3, \"python\", \"nie\", \"jest\", \"bardzo\", \"fajny\")==['jest', 'fajny'])"
      ]
    },
    {
      "cell_type": "markdown",
      "metadata": {
        "id": "AVGZ9kHhkDgZ"
      },
      "source": [
        "## Zadanie 4"
      ]
    },
    {
      "cell_type": "markdown",
      "metadata": {
        "id": "0SlBrRn2kDga"
      },
      "source": [
        "Napisz funkcję która będzie zwracała który raz jest wywoływana"
      ]
    },
    {
      "cell_type": "code",
      "execution_count": 116,
      "metadata": {
        "id": "2Z8CG1ockDga",
        "outputId": "56fa5dc9-f4da-43ab-eeba-96abba17d314",
        "colab": {
          "base_uri": "https://localhost:8080/"
        }
      },
      "outputs": [
        {
          "output_type": "stream",
          "name": "stdout",
          "text": [
            "True\n",
            "True\n",
            "True\n"
          ]
        }
      ],
      "source": [
        "ilosc=0\n",
        "def ile_wywolana():\n",
        "  global ilosc\n",
        "  ilosc+=1\n",
        "  return ilosc\n",
        "\n",
        "\n",
        "print(ile_wywolana()==1)\n",
        "print(ile_wywolana()==2)\n",
        "print(ile_wywolana()==3)"
      ]
    },
    {
      "cell_type": "markdown",
      "metadata": {
        "id": "wUNF8cSEkDga"
      },
      "source": [
        "## Zadanie 5"
      ]
    },
    {
      "cell_type": "markdown",
      "metadata": {
        "id": "iWY7MJiikDga"
      },
      "source": [
        "Napisz generator zwracający nieskończony ciąg licz pierwszych"
      ]
    },
    {
      "cell_type": "code",
      "execution_count": 119,
      "metadata": {
        "id": "wdmhVyy7kDga",
        "outputId": "86b7474e-5e2f-4692-d579-0a9368ad236f",
        "colab": {
          "base_uri": "https://localhost:8080/"
        }
      },
      "outputs": [
        {
          "output_type": "stream",
          "name": "stdout",
          "text": [
            "{2, 3, 5, 7, 11, 13, 17, 8209, 19, 23, 8219, 29, 8221, 31, 37, 8231, 41, 8233, 43, 8237, 47, 8243, 53, 59, 61, 67, 71, 8263, 73, 8269, 79, 8273, 83, 89, 8287, 97, 8291, 101, 8293, 103, 8297, 107, 109, 113, 8311, 8317, 127, 131, 137, 8329, 139, 149, 151, 157, 8353, 163, 167, 8363, 173, 8369, 179, 181, 8377, 191, 193, 8387, 197, 8389, 199, 211, 223, 227, 8419, 229, 8423, 233, 8429, 239, 8431, 241, 251, 8443, 8447, 257, 263, 269, 8461, 271, 8467, 277, 281, 283, 293, 307, 8501, 311, 313, 317, 8513, 8521, 331, 8527, 337, 8537, 347, 8539, 349, 8543, 353, 359, 367, 8563, 373, 379, 8573, 383, 389, 8581, 397, 401, 8597, 8599, 409, 8609, 419, 421, 431, 8623, 433, 8627, 8629, 439, 443, 449, 8641, 8647, 457, 461, 463, 467, 8663, 8669, 479, 8677, 487, 8681, 491, 8689, 499, 8693, 503, 8699, 509, 8707, 521, 8713, 523, 8719, 8731, 541, 8737, 547, 8741, 8747, 557, 8753, 563, 569, 8761, 571, 577, 587, 8779, 8783, 593, 599, 601, 607, 8803, 613, 8807, 617, 619, 8819, 8821, 631, 8831, 641, 643, 8837, 647, 8839, 653, 8849, 659, 661, 8861, 8863, 673, 8867, 677, 683, 691, 8887, 701, 8893, 709, 719, 727, 8923, 733, 8929, 739, 8933, 743, 8941, 751, 757, 8951, 761, 769, 8963, 773, 8969, 8971, 787, 797, 8999, 809, 9001, 811, 9007, 9011, 821, 9013, 823, 827, 829, 9029, 839, 9041, 9043, 853, 857, 9049, 859, 863, 9059, 9067, 877, 881, 883, 887, 9091, 907, 911, 9103, 9109, 919, 929, 9127, 937, 941, 9133, 9137, 947, 953, 9151, 9157, 967, 9161, 971, 977, 9173, 983, 9181, 991, 9187, 997, 9199, 1009, 9203, 1013, 9209, 1019, 1021, 9221, 1031, 1033, 9227, 1039, 9239, 1049, 9241, 1051, 1061, 1063, 9257, 1069, 9277, 1087, 9281, 1091, 9283, 1093, 1097, 9293, 1103, 1109, 1117, 9311, 1123, 9319, 1129, 9323, 9337, 9341, 1151, 9343, 1153, 9349, 1163, 1171, 9371, 1181, 9377, 1187, 1193, 9391, 1201, 9397, 9403, 1213, 1217, 9413, 1223, 9419, 1229, 9421, 1231, 1237, 9431, 9433, 9437, 9439, 1249, 1259, 9461, 9463, 9467, 1277, 1279, 9473, 1283, 9479, 1289, 1291, 1297, 9491, 1301, 1303, 9497, 1307, 1319, 9511, 1321, 1327, 9521, 9533, 9539, 9547, 9551, 1361, 1367, 1373, 1381, 9587, 1399, 1409, 9601, 9613, 1423, 1427, 9619, 1429, 9623, 1433, 9629, 1439, 9631, 1447, 1451, 9643, 1453, 9649, 1459, 9661, 1471, 1481, 1483, 9677, 1487, 9679, 1489, 1493, 9689, 1499, 9697, 1511, 1523, 9719, 9721, 1531, 9733, 1543, 9739, 1549, 9743, 1553, 9749, 1559, 1567, 1571, 9767, 9769, 1579, 1583, 9781, 9787, 1597, 9791, 1601, 1607, 1609, 9803, 1613, 1619, 9811, 1621, 9817, 1627, 1637, 9829, 9833, 9839, 1657, 9851, 1663, 9857, 1667, 9859, 1669, 9871, 9883, 1693, 9887, 1697, 1699, 1709, 9901, 9907, 1721, 1723, 9923, 1733, 9929, 9931, 1741, 1747, 9941, 1753, 9949, 1759, 9967, 1777, 9973, 1783, 1787, 1789, 1801, 1811, 1823, 1831, 1847, 1861, 1867, 1871, 1873, 1877, 1879, 1889, 1901, 1907, 1913, 1931, 1933, 1949, 1951, 1973, 1979, 1987, 1993, 1997, 1999, 2003, 2011, 2017, 2027, 2029, 2039, 2053, 2063, 2069, 2081, 2083, 2087, 2089, 2099, 2111, 2113, 2129, 2131, 2137, 2141, 2143, 2153, 2161, 2179, 2203, 2207, 2213, 2221, 2237, 2239, 2243, 2251, 2267, 2269, 2273, 2281, 2287, 2293, 2297, 2309, 2311, 2333, 2339, 2341, 2347, 2351, 2357, 2371, 2377, 2381, 2383, 2389, 2393, 2399, 2411, 2417, 2423, 2437, 2441, 2447, 2459, 2467, 2473, 2477, 2503, 2521, 2531, 2539, 2543, 2549, 2551, 2557, 2579, 2591, 2593, 2609, 2617, 2621, 2633, 2647, 2657, 2659, 2663, 2671, 2677, 2683, 2687, 2689, 2693, 2699, 2707, 2711, 2713, 2719, 2729, 2731, 2741, 2749, 2753, 2767, 2777, 2789, 2791, 2797, 2801, 2803, 2819, 2833, 2837, 2843, 2851, 2857, 2861, 2879, 2887, 2897, 2903, 2909, 2917, 2927, 2939, 2953, 2957, 2963, 2969, 2971, 2999, 3001, 3011, 3019, 3023, 3037, 3041, 3049, 3061, 3067, 3079, 3083, 3089, 3109, 3119, 3121, 3137, 3163, 3167, 3169, 3181, 3187, 3191, 3203, 3209, 3217, 3221, 3229, 3251, 3253, 3257, 3259, 3271, 3299, 3301, 3307, 3313, 3319, 3323, 3329, 3331, 3343, 3347, 3359, 3361, 3371, 3373, 3389, 3391, 3407, 3413, 3433, 3449, 3457, 3461, 3463, 3467, 3469, 3491, 3499, 3511, 3517, 3527, 3529, 3533, 3539, 3541, 3547, 3557, 3559, 3571, 3581, 3583, 3593, 3607, 3613, 3617, 3623, 3631, 3637, 3643, 3659, 3671, 3673, 3677, 3691, 3697, 3701, 3709, 3719, 3727, 3733, 3739, 3761, 3767, 3769, 3779, 3793, 3797, 3803, 3821, 3823, 3833, 3847, 3851, 3853, 3863, 3877, 3881, 3889, 3907, 3911, 3917, 3919, 3923, 3929, 3931, 3943, 3947, 3967, 3989, 4001, 4003, 4007, 4013, 4019, 4021, 4027, 4049, 4051, 4057, 4073, 4079, 4091, 4093, 4099, 4111, 4127, 4129, 4133, 4139, 4153, 4157, 4159, 4177, 4201, 4211, 4217, 4219, 4229, 4231, 4241, 4243, 4253, 4259, 4261, 4271, 4273, 4283, 4289, 4297, 4327, 4337, 4339, 4349, 4357, 4363, 4373, 4391, 4397, 4409, 4421, 4423, 4441, 4447, 4451, 4457, 4463, 4481, 4483, 4493, 4507, 4513, 4517, 4519, 4523, 4547, 4549, 4561, 4567, 4583, 4591, 4597, 4603, 4621, 4637, 4639, 4643, 4649, 4651, 4657, 4663, 4673, 4679, 4691, 4703, 4721, 4723, 4729, 4733, 4751, 4759, 4783, 4787, 4789, 4793, 4799, 4801, 4813, 4817, 4831, 4861, 4871, 4877, 4889, 4903, 4909, 4919, 4931, 4933, 4937, 4943, 4951, 4957, 4967, 4969, 4973, 4987, 4993, 4999, 5003, 5009, 5011, 5021, 5023, 5039, 5051, 5059, 5077, 5081, 5087, 5099, 5101, 5107, 5113, 5119, 5147, 5153, 5167, 5171, 5179, 5189, 5197, 5209, 5227, 5231, 5233, 5237, 5261, 5273, 5279, 5281, 5297, 5303, 5309, 5323, 5333, 5347, 5351, 5381, 5387, 5393, 5399, 5407, 5413, 5417, 5419, 5431, 5437, 5441, 5443, 5449, 5471, 5477, 5479, 5483, 5501, 5503, 5507, 5519, 5521, 5527, 5531, 5557, 5563, 5569, 5573, 5581, 5591, 5623, 5639, 5641, 5647, 5651, 5653, 5657, 5659, 5669, 5683, 5689, 5693, 5701, 5711, 5717, 5737, 5741, 5743, 5749, 5779, 5783, 5791, 5801, 5807, 5813, 5821, 5827, 5839, 5843, 5849, 5851, 5857, 5861, 5867, 5869, 5879, 5881, 5897, 5903, 5923, 5927, 5939, 5953, 5981, 5987, 6007, 6011, 6029, 6037, 6043, 6047, 6053, 6067, 6073, 6079, 6089, 6091, 6101, 6113, 6121, 6131, 6133, 6143, 6151, 6163, 6173, 6197, 6199, 6203, 6211, 6217, 6221, 6229, 6247, 6257, 6263, 6269, 6271, 6277, 6287, 6299, 6301, 6311, 6317, 6323, 6329, 6337, 6343, 6353, 6359, 6361, 6367, 6373, 6379, 6389, 6397, 6421, 6427, 6449, 6451, 6469, 6473, 6481, 6491, 6521, 6529, 6547, 6551, 6553, 6563, 6569, 6571, 6577, 6581, 6599, 6607, 6619, 6637, 6653, 6659, 6661, 6673, 6679, 6689, 6691, 6701, 6703, 6709, 6719, 6733, 6737, 6761, 6763, 6779, 6781, 6791, 6793, 6803, 6823, 6827, 6829, 6833, 6841, 6857, 6863, 6869, 6871, 6883, 6899, 6907, 6911, 6917, 6947, 6949, 6959, 6961, 6967, 6971, 6977, 6983, 6991, 6997, 7001, 7013, 7019, 7027, 7039, 7043, 7057, 7069, 7079, 7103, 7109, 7121, 7127, 7129, 7151, 7159, 7177, 7187, 7193, 7207, 7211, 7213, 7219, 7229, 7237, 7243, 7247, 7253, 7283, 7297, 7307, 7309, 7321, 7331, 7333, 7349, 7351, 7369, 7393, 7411, 7417, 7433, 7451, 7457, 7459, 7477, 7481, 7487, 7489, 7499, 7507, 7517, 7523, 7529, 7537, 7541, 7547, 7549, 7559, 7561, 7573, 7577, 7583, 7589, 7591, 7603, 7607, 7621, 7639, 7643, 7649, 7669, 7673, 7681, 7687, 7691, 7699, 7703, 7717, 7723, 7727, 7741, 7753, 7757, 7759, 7789, 7793, 7817, 7823, 7829, 7841, 7853, 7867, 7873, 7877, 7879, 7883, 7901, 7907, 7919, 7927, 7933, 7937, 7949, 7951, 7963, 7993, 8009, 8011, 8017, 8039, 8053, 8059, 8069, 8081, 8087, 8089, 8093, 8101, 8111, 8117, 8123, 8147, 8161, 8167, 8171, 8179, 8191}\n"
          ]
        }
      ],
      "source": [
        "def get_primes(number):\n",
        "  return set(filter(lambda x: not list(filter(lambda y: x % y == 0, range(2, x))), range(2, number + 1)))\n",
        "\n",
        "print (get_primes(10000))"
      ]
    },
    {
      "cell_type": "markdown",
      "metadata": {
        "id": "tWWBGivokDgb"
      },
      "source": [
        "## Zadanie 6"
      ]
    },
    {
      "cell_type": "markdown",
      "metadata": {
        "id": "YvlW0z5DkDgb"
      },
      "source": [
        "Uzupełnij definicje poniższych funkcji/generatorów."
      ]
    },
    {
      "cell_type": "code",
      "execution_count": null,
      "metadata": {
        "id": "c_KW7d1AkDgb"
      },
      "outputs": [],
      "source": [
        "def natural_numbers(k=0):\n",
        "    \"\"\"Tworzy generator liczb naturalnych od liczby k\"\"\"\n",
        "    pass\n",
        "\n",
        "import types\n",
        "print(isinstance(natural_numbers(), types.GeneratorType))\n",
        "\n",
        "for i, n in enumerate(natural_numbers()):\n",
        "    print(i, i == n)\n",
        "    if i > 20:\n",
        "        break\n",
        "\n",
        "for i, n in enumerate(natural_numbers(1)):\n",
        "    print(i, i+1 == n)\n",
        "    if i > 20:\n",
        "        break"
      ]
    },
    {
      "cell_type": "code",
      "execution_count": null,
      "metadata": {
        "id": "Vp3bofjLkDgc"
      },
      "outputs": [],
      "source": [
        "def factorials():\n",
        "    \"\"\"Tworzy generator kolejnych silnii\"\"\"\n",
        "    pass\n",
        "\n",
        "import types\n",
        "print(isinstance(factorials(), types.GeneratorType))\n",
        "\n",
        "results = [1, 1, 2, 6, 24, 120, 720, 5040]\n",
        "for truth, answer in zip(results, factorials()):\n",
        "    print(truth, truth == answer)"
      ]
    },
    {
      "cell_type": "markdown",
      "metadata": {
        "id": "JdUqPVKtkDgc"
      },
      "source": [
        "## Zadanie 7\n",
        "\n",
        "Napisz generator nieskończonego ciągu [liczb Fibonacciego](https://pl.wikipedia.org/wiki/Ci%C4%85g_Fibonacciego)."
      ]
    },
    {
      "cell_type": "code",
      "execution_count": null,
      "metadata": {
        "id": "E8VtcZEnkDgc"
      },
      "outputs": [],
      "source": []
    }
  ],
  "metadata": {
    "kernelspec": {
      "display_name": "Python 3",
      "language": "python",
      "name": "python3"
    },
    "language_info": {
      "codemirror_mode": {
        "name": "ipython",
        "version": 3
      },
      "file_extension": ".py",
      "mimetype": "text/x-python",
      "name": "python",
      "nbconvert_exporter": "python",
      "pygments_lexer": "ipython3",
      "version": "3.7.9"
    },
    "colab": {
      "provenance": []
    }
  },
  "nbformat": 4,
  "nbformat_minor": 0
}