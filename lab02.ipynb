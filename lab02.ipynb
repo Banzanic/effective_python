{
  "cells": [
    {
      "cell_type": "markdown",
      "metadata": {
        "id": "r5QEU-L1vFuV"
      },
      "source": [
        "## Lab 02"
      ]
    },
    {
      "cell_type": "markdown",
      "metadata": {
        "id": "gLTxaPqFvFuY"
      },
      "source": [
        "### Zadanie 1"
      ]
    },
    {
      "cell_type": "markdown",
      "metadata": {
        "id": "Q2oZ7ptuvFuZ"
      },
      "source": [
        "Dwa napisy są anagramami, jeśli jesteśmy w stanie w taki sposób poprzestawiać litery w jednym napisie, aby uzyskać drugi (nie możemy żadnej litery się pozbyć ani dodać). Przykładowo:\n",
        "\n",
        "  * abcd i dcba są anagramami\n",
        "  * aba i baa są anagramami\n",
        "  * aba i ba nie są anagramami  \n",
        "\n",
        "Zaimplementuj poniższą funkcja tak, aby sprawdzała czy dwa słowa są anagramamy w iterując po każdym słownie maksymalnie raz."
      ]
    },
    {
      "cell_type": "code",
      "execution_count": 41,
      "metadata": {
        "id": "CzckYG3_vFuZ",
        "outputId": "2824d386-6767-4dc9-e327-8524465b197b",
        "colab": {
          "base_uri": "https://localhost:8080/"
        }
      },
      "outputs": [
        {
          "output_type": "stream",
          "name": "stdout",
          "text": [
            "True\n",
            "True\n",
            "True\n",
            "True\n"
          ]
        }
      ],
      "source": [
        "def check_anagram(first, second):\n",
        "  #\"\"\" Sprawdza czy podane wyrazy są anagramami \"\"\"\n",
        "  if len(first) != len(second):\n",
        "    return False\n",
        "  counts = {}\n",
        "  for c1, c2 in zip(first, second):\n",
        "    if c1 in counts.keys():\n",
        "      counts[c1] += 1\n",
        "    else:\n",
        "      counts[c1] = 1\n",
        "    if c2 in counts.keys():\n",
        "      counts[c2] -= 1\n",
        "    else:\n",
        "      counts[c2] = -1\n",
        "  return sum(counts.values()) == 0\n",
        "\n",
        "print(check_anagram(\"abcd\", \"dcba\") == True)\n",
        "print(check_anagram(\"aba\", \"baa\") == True)\n",
        "print(check_anagram(\"aba\", \"ba\") == False)\n",
        "print(check_anagram(\"tom marvolo riddle \", \"i am lord voldemort\") == True)"
      ]
    },
    {
      "cell_type": "markdown",
      "metadata": {
        "id": "o93ldz3qvFua"
      },
      "source": [
        "### Zadanie 2"
      ]
    },
    {
      "cell_type": "code",
      "execution_count": 42,
      "metadata": {
        "id": "BFKXyZOivFub",
        "outputId": "4c276e55-4ca3-4127-fb46-e1d6884a6f8f",
        "colab": {
          "base_uri": "https://localhost:8080/"
        }
      },
      "outputs": [
        {
          "output_type": "stream",
          "name": "stdout",
          "text": [
            "True\n",
            "True\n"
          ]
        }
      ],
      "source": [
        "def gaderypoluki(text, key):\n",
        "  #\"\"\"\n",
        "  #Funkcja powinna szyfrować (lub odszyfrować) tekst szyfrem GADERYPOLUKI (lub podobnym)\n",
        "  #https://pl.wikipedia.org/wiki/Gaderypoluki\n",
        "  #\"\"\"\n",
        "  wynik = \"\"\n",
        "  text_ = text.lower()\n",
        "  key_ = key.lower()\n",
        "  for i in text_:\n",
        "    j = key_.find(i)\n",
        "    if j == -1:\n",
        "      wynik += i\n",
        "    else:\n",
        "      if j % 2 == 0:\n",
        "        wynik += key_[j + 1]\n",
        "      else:\n",
        "        wynik += key_[j - 1]\n",
        "  return wynik\n",
        "\n",
        "print(gaderypoluki('Ala ma kota', 'GADERYPOLUKI') == 'gug mg iptg')\n",
        "print(gaderypoluki('gug mg iptg', 'GADERYPOLUKI') == 'ala ma kota')"
      ]
    },
    {
      "cell_type": "markdown",
      "metadata": {
        "id": "8IlkGhbvvFub"
      },
      "source": [
        "### Zadanie 3"
      ]
    },
    {
      "cell_type": "markdown",
      "metadata": {
        "id": "zunvRzWCvFub"
      },
      "source": [
        "#### Comprehensions\n",
        "Zapisz każdą z poniższych 4 funkcji w postaci list/dict/set comprehension. Nie należy używać żadnych zmiennych tymczasowych ani dodatkowych linii, każda funkcja ma zostać wyrażona w postaci: <br>\n",
        "```\n",
        "def FUNKCJA(ARGUMENTY):\n",
        "    return COMPREHENSION\n",
        "```"
      ]
    },
    {
      "cell_type": "code",
      "execution_count": 43,
      "metadata": {
        "id": "C_IDld36vFuc",
        "outputId": "c9670ae5-f369-40b6-9a1a-d2ef46f80a7c",
        "colab": {
          "base_uri": "https://localhost:8080/"
        }
      },
      "outputs": [
        {
          "output_type": "stream",
          "name": "stdout",
          "text": [
            "True\n",
            "True\n",
            "True\n",
            "True\n"
          ]
        }
      ],
      "source": [
        "def even_numbers_from_list(data):\n",
        "  #\"\"\"Zwraca podlistę \"data\" zawierającą wyłącznie parzyste liczby\"\"\"\n",
        "  #result = []\n",
        "  #for point in data:\n",
        "  #  if point % 2 == 0:\n",
        "  #    result.append(point)\n",
        "  #return result\n",
        "  return [x for x in data if x % 2 == 0]\n",
        "\n",
        "print(even_numbers_from_list([1, 2, 3, 4]) == [2, 4])\n",
        "print(even_numbers_from_list(range(10)) == list(range(0, 10, 2)))\n",
        "print(even_numbers_from_list(range(1000)) == list(range(0, 1000, 2)))\n",
        "print(even_numbers_from_list([10, 2, 3, 4, 6, -3, -4]) == [10, 2, 4, 6, -4])"
      ]
    },
    {
      "cell_type": "code",
      "execution_count": 44,
      "metadata": {
        "id": "oh9vPctqvFuc",
        "outputId": "b3073adb-1c4c-4d34-b688-e758684e4500",
        "colab": {
          "base_uri": "https://localhost:8080/"
        }
      },
      "outputs": [
        {
          "output_type": "stream",
          "name": "stdout",
          "text": [
            "True\n",
            "True\n"
          ]
        }
      ],
      "source": [
        "def words_analyze(words):\n",
        "  #\"\"\"Zwraca listę trójek, gdzie i'ta trójka to (i, i'te słowo, długość i'tego słowa)\"\"\"\n",
        "  #result = []\n",
        "  #i = 0\n",
        "  #for word in words:\n",
        "  #  result.append((i, word, len(word)))\n",
        "  #  i += 1\n",
        "  #return result\n",
        "  return [ (x, words[x], len(words[x])) for x in range(len(words))]\n",
        "\n",
        "print(words_analyze(['tomek', 'jadzia']) == [(0, 'tomek', 5), (1, 'jadzia', 6)])\n",
        "print(words_analyze([]) == [])"
      ]
    },
    {
      "cell_type": "code",
      "execution_count": 45,
      "metadata": {
        "id": "h3RKws50vFuc",
        "outputId": "cc5b859b-38f8-4da0-ffc1-047b2b70bb3c",
        "colab": {
          "base_uri": "https://localhost:8080/"
        }
      },
      "outputs": [
        {
          "output_type": "stream",
          "name": "stdout",
          "text": [
            "True\n",
            "True\n",
            "True\n"
          ]
        }
      ],
      "source": [
        "def count_words_starting_with_given_letter(text, letter):\n",
        "  #\"\"\"Zwraca słownik gdzie kluczami są wszystkie słowa występujące w tekście\n",
        "  #rozpoczynające się na zadaną literę, a wartością ile razy wystąpiy\"\"\"\n",
        "  #result = {}\n",
        "  #for word in text.split():\n",
        "  #  if word[0] == letter:\n",
        "  #    if word not in result:\n",
        "  #      result[word] = 1\n",
        "  #    else:\n",
        "  #      result[word] += 1\n",
        "  #return result\n",
        "   return {word: text.split().count(word) for word in text.split() if word[0] == letter}\n",
        "\n",
        "print(count_words_starting_with_given_letter('ola ma kota o imieniu ola', 'o') == {'ola': 2, 'o': 1})\n",
        "print(count_words_starting_with_given_letter('ola ma kota o imieniu ola', 'k') == {'kota': 1})\n",
        "print(count_words_starting_with_given_letter('ola ma kota o imieniu ola', 'x') == {})"
      ]
    },
    {
      "cell_type": "markdown",
      "metadata": {
        "id": "M-jeVSAWvFud"
      },
      "source": [
        "### Zadanie 4"
      ]
    },
    {
      "cell_type": "code",
      "execution_count": 46,
      "metadata": {
        "id": "j8XA03ChvFud",
        "outputId": "07944030-36cb-48f6-9071-34ef08175ab1",
        "colab": {
          "base_uri": "https://localhost:8080/"
        }
      },
      "outputs": [
        {
          "output_type": "stream",
          "name": "stdout",
          "text": [
            "True\n",
            "True\n",
            "True\n"
          ]
        }
      ],
      "source": [
        "def merge_dicts(a, b, f):\n",
        "  #'''\n",
        "  #Funkcja przyjmuje:\n",
        "  #- dwa słowniki a i b\n",
        "  #- dwuargumentową funkcję f\n",
        "  #Funkcja jako wynik powinna zwrócić słownik, który będzie sumą dwóch słowników.\n",
        "  #Sumę dwóch słowników powinniśmy rozumieć jako słownik, w którym zbiór kluczy będzie równy\n",
        "  #sumie zbiorów kluczy ze słowników a i b. Gdy jakiś klucz występuje w obu słownikach, to wartość ma być\n",
        "  #wynikiem funkcji f obliczonej na wartościach dla danego klucza w słowniku a i słowniku b\n",
        "  #'''\n",
        "  return {i: f(a[i], b[i]) if i in a and i in b else j for d in [a, b] for i, j in d.items()}\n",
        "\n",
        "def add(a,b):\n",
        "    return a + b\n",
        "\n",
        "print(merge_dicts({'a': 1}, {'b': 1}, add) == {'b': 1, 'a': 1})\n",
        "print(merge_dicts({'a': 1, 'b': 2}, {'b': 1}, add) == {'b': 3, 'a': 1})\n",
        "print(merge_dicts({'a': 1, 'b': 2}, {'b': 1, 'c': 3, 'a': 7}, add) == {'c': 3, 'b': 3, 'a': 8})"
      ]
    },
    {
      "cell_type": "markdown",
      "metadata": {
        "id": "fEDsFOPQvFud"
      },
      "source": [
        "### Zadanie 5"
      ]
    },
    {
      "cell_type": "markdown",
      "metadata": {
        "id": "iv_hDcTFvFud"
      },
      "source": [
        "#### _Primes_ ponownie\n",
        "Zaimplementuj funckje z poprzednich ćwiczeń za pomocą _set comperhension_, tak aby cała jej implementacja zmieściła się w jednej linii (jak w powyższych zadaniach)"
      ]
    },
    {
      "cell_type": "code",
      "execution_count": 47,
      "metadata": {
        "id": "dxiljnuUvFud",
        "outputId": "334c9304-593b-48c6-f347-f0ad4ed2024f",
        "colab": {
          "base_uri": "https://localhost:8080/"
        }
      },
      "outputs": [
        {
          "output_type": "stream",
          "name": "stdout",
          "text": [
            "True\n",
            "True\n",
            "True\n"
          ]
        }
      ],
      "source": [
        "from math import sqrt\n",
        "\n",
        "def primes(N):\n",
        "  #\"\"\"Zwraca zbiór liczb pierwszych od 0 do N włącznie\"\"\"\n",
        "  return (({x for x in range (2,N+1) if len([y for y in range(2,x//2+1) if x%y==0]) == 0}))\n",
        "\n",
        "print(primes(5) == {2, 3, 5})\n",
        "print(primes(10) == {2, 3, 5, 7})\n",
        "print(primes(100) == {2, 3, 5, 7, 11, 13, 17, 19, 23, 29, 31, 37, 41, 43, 47, 53, 59, 61, 67, 71, 73, 79, 83, 89, 97})"
      ]
    },
    {
      "cell_type": "markdown",
      "metadata": {
        "id": "g7dA-QuHvFud"
      },
      "source": [
        "### Zadanie 6"
      ]
    },
    {
      "cell_type": "markdown",
      "metadata": {
        "id": "bV0OtBZRvFud"
      },
      "source": [
        "Wykorzystując znieżdzenia generatorów list ([https://www.python.org/dev/peps/pep-0202/](https://www.python.org/dev/peps/pep-0202/))  napisz funkcje, która\n",
        "* wypisze wszystkie pary (x,y) gdzie 0 < x < n oraz 0 < y < n"
      ]
    },
    {
      "cell_type": "code",
      "execution_count": 48,
      "metadata": {
        "id": "6OCLgoWKvFud"
      },
      "outputs": [],
      "source": [
        "def func1(n):\n",
        "  return [(x, y) for x in range(n) for y in range(n)]"
      ]
    },
    {
      "cell_type": "code",
      "execution_count": 49,
      "metadata": {
        "id": "SR5P0gF2vFue",
        "outputId": "9fbac38a-79b8-4217-f4f9-bb0a378fe9bf",
        "colab": {
          "base_uri": "https://localhost:8080/"
        }
      },
      "outputs": [
        {
          "output_type": "stream",
          "name": "stdout",
          "text": [
            "True\n",
            "True\n"
          ]
        }
      ],
      "source": [
        "print(func1(3)==[(0, 0), (0, 1), (0, 2), (1, 0), (1, 1), (1, 2), (2, 0), (2, 1), (2, 2)])\n",
        "print(func1(0)==[])"
      ]
    },
    {
      "cell_type": "markdown",
      "metadata": {
        "id": "pjQNr4iGvFue"
      },
      "source": [
        "* wypisze tylko takie pary dla których x < y"
      ]
    },
    {
      "cell_type": "code",
      "execution_count": 50,
      "metadata": {
        "id": "L0jFVN2VvFue"
      },
      "outputs": [],
      "source": [
        "def func2(n):\n",
        "  return [(x, y) for x in range(n) for y in range(n) if x<y]"
      ]
    },
    {
      "cell_type": "code",
      "execution_count": 51,
      "metadata": {
        "id": "IIYsSXOZvFue",
        "outputId": "a28f1051-4c87-4349-bbe8-5733d8482f4a",
        "colab": {
          "base_uri": "https://localhost:8080/"
        }
      },
      "outputs": [
        {
          "output_type": "stream",
          "name": "stdout",
          "text": [
            "True\n",
            "True\n"
          ]
        }
      ],
      "source": [
        "print(func2(3)==[(0, 1), (0, 2), (1, 2)])\n",
        "print(func2(4)==[(0, 1), (0, 2), (0, 3), (1, 2), (1, 3), (2, 3)])"
      ]
    },
    {
      "cell_type": "markdown",
      "metadata": {
        "id": "jiffu6TTvFue"
      },
      "source": [
        "* wypisze tylko takie pary dla których x > y"
      ]
    },
    {
      "cell_type": "code",
      "execution_count": 52,
      "metadata": {
        "id": "ULu479vkvFue"
      },
      "outputs": [],
      "source": [
        "def func3(n):\n",
        "  return [(x, y) for x in range(n) for y in range(n) if x>y]"
      ]
    },
    {
      "cell_type": "code",
      "execution_count": 53,
      "metadata": {
        "id": "Xu0wP1FlvFue",
        "outputId": "fa0f4818-124e-4fd1-8360-642fe80fcde0",
        "colab": {
          "base_uri": "https://localhost:8080/"
        }
      },
      "outputs": [
        {
          "output_type": "stream",
          "name": "stdout",
          "text": [
            "True\n",
            "True\n"
          ]
        }
      ],
      "source": [
        "print(func3(3)==[(1, 0), (2, 0), (2, 1)])\n",
        "print(func3(4)==[(1, 0), (2, 0), (2, 1), (3, 0), (3, 1), (3, 2)])"
      ]
    },
    {
      "cell_type": "markdown",
      "metadata": {
        "id": "v4y_5c-hvFue"
      },
      "source": [
        "### Zadanie 7"
      ]
    },
    {
      "cell_type": "markdown",
      "metadata": {
        "id": "OyRGOfnovFue"
      },
      "source": [
        "Napisz funkcję `powerset`, która zwróci listę wszystkich podzbiorów zadanej listy przekazanej jako argument"
      ]
    },
    {
      "cell_type": "code",
      "execution_count": 54,
      "metadata": {
        "id": "sqDbkK8kvFue"
      },
      "outputs": [],
      "source": [
        "def powerset(x):\n",
        "  wynik=[x[i:j] for i in range(len(x)) for j in range(i + 1, len(x) + 1)]\n",
        "  wynik.append([])\n",
        "  print (wynik)\n",
        "  return wynik\n",
        "\n",
        "#zwraca wszystkie podzbiory, tylko nie w zadanej kolejnosci"
      ]
    },
    {
      "cell_type": "code",
      "execution_count": 55,
      "metadata": {
        "id": "ZcZUwSvRvFue",
        "outputId": "05ae31d7-1e38-4008-e225-59eecceaf75b",
        "colab": {
          "base_uri": "https://localhost:8080/"
        }
      },
      "outputs": [
        {
          "output_type": "stream",
          "name": "stdout",
          "text": [
            "['a', 'ab', 'abc', 'b', 'bc', 'c', []]\n",
            "False\n",
            "[[1], [1, 2], [1, 2, 3], [2], [2, 3], [3], []]\n",
            "False\n",
            "[['abc'], ['abc', 5], ['abc', 5, 6], [5], [5, 6], [6], []]\n",
            "False\n"
          ]
        }
      ],
      "source": [
        "print(powerset('abc')==[[], ['a'], ['b'], ['a', 'b'], ['c'], ['a', 'c'], ['b', 'c'], ['a', 'b', 'c']])\n",
        "print(powerset([1, 2, 3])==[[], [1], [2], [1, 2], [3], [1, 3], [2, 3], [1, 2, 3]])\n",
        "print(powerset(['abc', 5, 6])==[[], ['abc'], [5], ['abc', 5], [6], ['abc', 6], [5, 6], ['abc', 5, 6]])"
      ]
    },
    {
      "cell_type": "markdown",
      "metadata": {
        "id": "JB4lwRYIvFuf"
      },
      "source": [
        "### Zadanie 8"
      ]
    },
    {
      "cell_type": "markdown",
      "metadata": {
        "id": "VAKGoIl0vFuf"
      },
      "source": [
        "Napisz funkcję primes jeszcze raz, tym razem jednak nie wolno Ci użyć pętli (`for`, `while`, etc.) i operatorów `>=`, `<=`"
      ]
    },
    {
      "cell_type": "code",
      "execution_count": 57,
      "metadata": {
        "id": "eetRvmpavFuf",
        "outputId": "70f387ce-c346-4b52-b155-bb46f9d8a9bb",
        "colab": {
          "base_uri": "https://localhost:8080/"
        }
      },
      "outputs": [
        {
          "output_type": "stream",
          "name": "stdout",
          "text": [
            "True\n",
            "True\n",
            "True\n"
          ]
        }
      ],
      "source": [
        "def primes_extra_b(N):\n",
        "  #\"\"\"Zwraca zbiór liczb pierwszych od 0 do N włącznie\"\"\"\n",
        "  return set(filter(lambda x: not list(filter(lambda y: x % y == 0, range(2, x))), range(2, N + 1)))\n",
        "\n",
        "print(primes_extra_b(5) == {2, 3, 5})\n",
        "print(primes_extra_b(10) == {2, 3, 5, 7})\n",
        "print(primes_extra_b(100) == {2, 3, 5, 7, 11, 13, 17, 19, 23, 29, 31, 37, 41, 43, 47, 53, 59, 61, 67, 71, 73, 79, 83, 89, 97})"
      ]
    },
    {
      "cell_type": "code",
      "execution_count": null,
      "metadata": {
        "id": "Z21wXcmrvFuf"
      },
      "outputs": [],
      "source": []
    }
  ],
  "metadata": {
    "kernelspec": {
      "display_name": "Python 3",
      "language": "python",
      "name": "python3"
    },
    "language_info": {
      "codemirror_mode": {
        "name": "ipython",
        "version": 3
      },
      "file_extension": ".py",
      "mimetype": "text/x-python",
      "name": "python",
      "nbconvert_exporter": "python",
      "pygments_lexer": "ipython3",
      "version": "3.6.4"
    },
    "colab": {
      "provenance": []
    }
  },
  "nbformat": 4,
  "nbformat_minor": 0
}