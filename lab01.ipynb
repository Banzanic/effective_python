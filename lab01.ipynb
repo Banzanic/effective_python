{
  "cells": [
    {
      "cell_type": "markdown",
      "metadata": {
        "id": "wTYYtuC0wJ6K"
      },
      "source": [
        "## Lab 01"
      ]
    },
    {
      "cell_type": "markdown",
      "metadata": {
        "id": "MiyYNhwawJ6L"
      },
      "source": [
        "### Rozgrzewka (zalecana dla początkujących)"
      ]
    },
    {
      "cell_type": "markdown",
      "metadata": {
        "id": "KhoHGl5DwJ6M"
      },
      "source": [
        "a) Korzystając z ```virtualenv``` przygotuj wirtualne środowisko uruchomieniowe ([Wirtualne środowisko uruchomieniowe Pythona](http://blog.fizyk.net.pl/pl/blog/wirtualne-srodowisko-uruchomieniowe-pythona.html))."
      ]
    },
    {
      "cell_type": "markdown",
      "metadata": {
        "id": "xKHYv0b_wJ6M"
      },
      "source": [
        "b) Korzystając z ```pip``` zainstaluj pakiet ```roman``` i przetestuj go."
      ]
    },
    {
      "cell_type": "markdown",
      "metadata": {
        "id": "DAV8E68bwJ6M"
      },
      "source": [
        "Jeśli są z tym problemy wykorzystaj [tooooo](https://www.google.pl/search?q=python+online+interpreter&oq=python+online+&aqs=chrome.2.69i57j0l5.4406j0j7&sourceid=chrome&ie=UTF-80)"
      ]
    },
    {
      "cell_type": "markdown",
      "metadata": {
        "collapsed": true,
        "id": "bKFRLXTCwJ6N"
      },
      "source": [
        "### Zadanie 1"
      ]
    },
    {
      "cell_type": "markdown",
      "metadata": {
        "id": "MSPfMK8xwJ6N"
      },
      "source": [
        "Zaimplementuj poniższe funkcje, tak żeby dołączone testy przechodziły. Polecenia znajdują się w docstringach pod deklaracją funkcji."
      ]
    },
    {
      "cell_type": "code",
      "execution_count": 168,
      "metadata": {
        "id": "iRw4tl_twJ6N",
        "outputId": "dc314f32-1058-4cd5-d162-5915a3d9cf10",
        "colab": {
          "base_uri": "https://localhost:8080/"
        }
      },
      "outputs": [
        {
          "output_type": "stream",
          "name": "stdout",
          "text": [
            "True\n",
            "True\n",
            "True\n"
          ]
        }
      ],
      "source": [
        "def avg(input):\n",
        "    #\"\"\"Funkcja powinna zwrócić średnią arytmetyczną elementów na liście 'input'\"\"\"\n",
        "    return sum(input)/len(input)\n",
        "\n",
        "print(avg([2,2,2,2,2,2]) - 2 < 0.0000001)\n",
        "print(avg([4, 6, 55, 18, 17, 12]) - 18.666666666666668 < 0.0000001)\n",
        "print(avg([86, 89, 24, 45, 62, 17, 61, 63, 30, 13]) - 49 < 0.0000001)"
      ]
    },
    {
      "cell_type": "code",
      "execution_count": 169,
      "metadata": {
        "id": "czXVyzF2wJ6O",
        "outputId": "ab319285-d5d2-4d4b-da4f-392b92e6fd85",
        "colab": {
          "base_uri": "https://localhost:8080/"
        }
      },
      "outputs": [
        {
          "output_type": "stream",
          "name": "stdout",
          "text": [
            "True\n",
            "True\n",
            "True\n",
            "True\n"
          ]
        }
      ],
      "source": [
        "def even_list(n):\n",
        "    #\"\"\"Funkcja powinna zwrocic liste liczb parzystych <= n\"\"\"\n",
        "    return list(range(2,n+1,2))\n",
        "\n",
        "print(even_list(1) == [])\n",
        "print(even_list(2) == [2])\n",
        "print(even_list(-5) == [])\n",
        "print(even_list(7) == [2,4,6])"
      ]
    },
    {
      "cell_type": "code",
      "execution_count": 170,
      "metadata": {
        "collapsed": true,
        "id": "B9G4vlWXwJ6O",
        "outputId": "536a7a96-9c3a-4f2e-8bf8-9a149948e3a9",
        "colab": {
          "base_uri": "https://localhost:8080/"
        }
      },
      "outputs": [
        {
          "output_type": "stream",
          "name": "stdout",
          "text": [
            "True\n",
            "True\n",
            "True\n"
          ]
        }
      ],
      "source": [
        "def sum_of_squares(n):\n",
        "    #\"\"\" Funkcja powinna zwrócić sumę kwadratów liczb od 1 do n włącznie \"\"\"\n",
        "    return sum(map(lambda x:x*x, range(1,n+1)))\n",
        "\n",
        "print(sum_of_squares(1) == 1)\n",
        "print(sum_of_squares(3) == 14)\n",
        "print(sum_of_squares(10) == 385)"
      ]
    },
    {
      "cell_type": "code",
      "execution_count": 171,
      "metadata": {
        "collapsed": true,
        "id": "uB686LGRwJ6O",
        "outputId": "c4c64008-e530-4af1-fbf6-fc487d5ebade",
        "colab": {
          "base_uri": "https://localhost:8080/"
        }
      },
      "outputs": [
        {
          "output_type": "stream",
          "name": "stdout",
          "text": [
            "True\n",
            "True\n",
            "True\n"
          ]
        }
      ],
      "source": [
        "def sum_of_multiples(k, n=101):\n",
        "    #\"\"\" Funckja powinna zwrócić sume wszystkich dodatnich wieloktrotności parametru k mniejszych niż n \"\"\"\n",
        "    return sum(range(k, n, k))\n",
        "\n",
        "print(sum_of_multiples(5) == 1050)\n",
        "print(sum_of_multiples(17) == 255)\n",
        "print(sum_of_multiples(69) == 69)"
      ]
    },
    {
      "cell_type": "code",
      "execution_count": 172,
      "metadata": {
        "collapsed": true,
        "id": "_9c21J0wwJ6P",
        "outputId": "23eb7d0a-cceb-41e1-8da6-0ae8ee5b2967",
        "colab": {
          "base_uri": "https://localhost:8080/"
        }
      },
      "outputs": [
        {
          "output_type": "stream",
          "name": "stdout",
          "text": [
            "True\n",
            "True\n",
            "True\n"
          ]
        }
      ],
      "source": [
        "def is_prime(n):\n",
        "  if n == 0 or n == 1 : return False\n",
        "  for i in range(2,(n//2)+1):\n",
        "    if(n%i==0) : return False\n",
        "  return True\n",
        "\n",
        "def primes_less_than(n):\n",
        "  #\"\"\" Funkcja powinna zwrócić liste liczb pierwszych mniejszych od n \"\"\"\n",
        "  nums=list()\n",
        "  for num in range(n):\n",
        "    if is_prime(num):\n",
        "      nums.append(num)\n",
        "  return nums\n",
        "\n",
        "print(primes_less_than(5) == [2,3])\n",
        "print(primes_less_than(10) == [2,3,5,7])\n",
        "print(primes_less_than(20) == [2, 3, 5, 7, 11, 13, 17, 19])"
      ]
    },
    {
      "cell_type": "code",
      "execution_count": 173,
      "metadata": {
        "collapsed": true,
        "id": "li-0jmpXwJ6P",
        "outputId": "668b8d5c-2bce-44ab-9639-e41704b6784c",
        "colab": {
          "base_uri": "https://localhost:8080/"
        }
      },
      "outputs": [
        {
          "output_type": "stream",
          "name": "stdout",
          "text": [
            "True\n",
            "True\n",
            "True\n",
            "True\n"
          ]
        }
      ],
      "source": [
        "def is_palindrome(word):\n",
        "  #\"\"\" Funkcja sprawdza czy *word* jest palindromem \"\"\"\n",
        "  return word == word[::-1]\n",
        "\n",
        "print(is_palindrome('ala') == True)\n",
        "print(is_palindrome('ananas') == False)\n",
        "print(is_palindrome('ananasa') == False)\n",
        "print(is_palindrome('tomek') == False)"
      ]
    },
    {
      "cell_type": "code",
      "execution_count": 174,
      "metadata": {
        "collapsed": true,
        "id": "XBIB060OwJ6P",
        "outputId": "c382fbc4-5fab-466c-8eea-bcc7e17a94a1",
        "colab": {
          "base_uri": "https://localhost:8080/"
        }
      },
      "outputs": [
        {
          "output_type": "stream",
          "name": "stdout",
          "text": [
            "True\n",
            "True\n",
            "True\n",
            "True\n"
          ]
        }
      ],
      "source": [
        "def how_many_different_letters(word):\n",
        "  #\"\"\" Zwraca liczbę unikalnych znaków w słowie. Możemy założyć, że słowo składa się z małych liter alfabetu angielskiego \"\"\"\n",
        "  return len(set(word))\n",
        "\n",
        "print(how_many_different_letters('tomek') == 5)\n",
        "print(how_many_different_letters('ala') == 2)\n",
        "print(how_many_different_letters('ananas') == 3)\n",
        "print(how_many_different_letters('jola') == 4)"
      ]
    },
    {
      "cell_type": "code",
      "execution_count": 175,
      "metadata": {
        "collapsed": true,
        "id": "-0aHuNvMwJ6P",
        "outputId": "eaddc74b-aedc-4555-a268-52f76a0ab09e",
        "colab": {
          "base_uri": "https://localhost:8080/"
        }
      },
      "outputs": [
        {
          "output_type": "stream",
          "name": "stdout",
          "text": [
            "<table style=\"table-layout: fixed; height: 90px; width: 90px;\"><tr><td>X</td>\n",
            "<td></td>\n",
            "<td>O</td>\n",
            "</tr>\n",
            "<tr><td></td>\n",
            "<td>X</td>\n",
            "<td></td>\n",
            "</tr>\n",
            "<tr><td>O</td>\n",
            "<td></td>\n",
            "<td>O</td>\n",
            "</tr>\n",
            "\n",
            "</table>\n"
          ]
        }
      ],
      "source": [
        "def list_to_table(word):\n",
        "  #\"\"\" Funkcja przyjmuje 9-elementową liste i na jej podstawie tworzy stringa z HTMLową tabelą orzmiaru 3x3\n",
        "  #reprezentującą plansze do gry w kółko i krzyżyk\"\"\"\n",
        "  board = '<table style=\"table-layout: fixed; height: 90px; width: 90px;\">'\n",
        "  # twoj kod\n",
        "  for i in range(3):\n",
        "    board += \"<tr>\"\n",
        "    for j in range(3):\n",
        "      board += f\"<td>{word[i*3 + j]}</td>\\n\"\n",
        "    board += \"</tr>\\n\"\n",
        "\n",
        "  board += \"\\n</table>\"\n",
        "  return board\n",
        "\n",
        "print(list_to_table(['X', '', 'O', '', 'X', '', 'O', '', 'O']))"
      ]
    },
    {
      "cell_type": "markdown",
      "metadata": {
        "id": "EYTzFUfewJ6P"
      },
      "source": [
        "<table style=\"table-layout: fixed; height: 90px; width: 90px;\">\n",
        "  <tr>\n",
        "    <td>X</td>\n",
        "    <td> </td>\n",
        "    <td>O</td>\n",
        "  </tr>\n",
        "  <tr>\n",
        "    <td></td>\n",
        "    <td>X</td>\n",
        "    <td></td>\n",
        "  </tr>\n",
        "  <tr>\n",
        "    <td>O</td>\n",
        "    <td></td>\n",
        "    <td>O</td>\n",
        "  </tr>\n",
        "</table>"
      ]
    },
    {
      "cell_type": "code",
      "execution_count": 176,
      "metadata": {
        "collapsed": true,
        "id": "eE1kiS-XwJ6P",
        "outputId": "f268acda-66a8-4513-c0aa-5ba4619ac5c9",
        "colab": {
          "base_uri": "https://localhost:8080/"
        }
      },
      "outputs": [
        {
          "output_type": "stream",
          "name": "stdout",
          "text": [
            "True\n",
            "True\n",
            "True\n",
            "True\n"
          ]
        }
      ],
      "source": [
        "def suma_dzielnikow(n):\n",
        "  return sum(d for d in range(1, n//2+1) if n % d == 0)\n",
        "\n",
        "# Funkcję zwraca listę par liczb zaprzyjaźnionych nie większych niż n\n",
        "# (zobacz: https://pl.wikipedia.org/wiki/Liczby_zaprzyja%C5%BAnione)\n",
        "def zaprzyjaznione(n):\n",
        "  wynik = []\n",
        "  for n1 in range(n):\n",
        "    n2 = suma_dzielnikow(n1)\n",
        "    if n1 != n2 and suma_dzielnikow(n2) == n1 and (n2, n1) not in wynik:\n",
        "      wynik.append((n1, n2))\n",
        "  return wynik\n",
        "\n",
        "print(zaprzyjaznione(1) == [])\n",
        "print(zaprzyjaznione(300) == [(220, 284)])\n",
        "print(zaprzyjaznione(2000) == [(220, 284), (1184, 1210)])\n",
        "print(zaprzyjaznione(13000) == [(220, 284), (1184, 1210),(2620, 2924), (5020, 5564), (6232, 6368), (10744, 10856), (12285, 14595)])"
      ]
    },
    {
      "cell_type": "code",
      "execution_count": 177,
      "metadata": {
        "id": "N6eGdn9xwJ6Q",
        "outputId": "a1c15122-16ea-4887-cd0d-d37d32efd2db",
        "colab": {
          "base_uri": "https://localhost:8080/"
        }
      },
      "outputs": [
        {
          "output_type": "stream",
          "name": "stdout",
          "text": [
            "True\n",
            "True\n",
            "True\n"
          ]
        }
      ],
      "source": [
        "def gcd(a, b):\n",
        "  if (a == 0):\n",
        "    return b\n",
        "  return gcd(b % a, a)\n",
        "\n",
        "def phi_euler(n):\n",
        "  #\"\"\"Funkcja powinna zwrócić wartość funkcji phi Eulera\"\"\"\n",
        "  wynik = 0\n",
        "  for i in range(1, n):\n",
        "    if (gcd(i, n) == 1):\n",
        "      wynik+=1\n",
        "  return wynik\n",
        "\n",
        "print(phi_euler(6) == 2)\n",
        "print(phi_euler(64) == 32)\n",
        "print(phi_euler(97) == 96)"
      ]
    },
    {
      "cell_type": "markdown",
      "metadata": {
        "id": "jfVLP7yUwJ6Q"
      },
      "source": [
        "### Zadanie 2"
      ]
    },
    {
      "cell_type": "markdown",
      "metadata": {
        "id": "LGFc8ZPewJ6Q"
      },
      "source": [
        "Uzupełnij poniższe impementacje tak aby osiągnąć zbliczone czasy wykonania\n",
        "- `is_perfect`: 76.5 ms ± 5.79 ms per loop (mean ± std. dev. of 7 runs, 40 loops each)\n",
        "- `is_perfect2`: 73 ms ± 4 ms per loop (mean ± std. dev. of 7 runs, 40 loops each)"
      ]
    },
    {
      "cell_type": "code",
      "execution_count": 178,
      "metadata": {
        "id": "G1CNDS3SwJ6Q"
      },
      "outputs": [],
      "source": [
        "def is_perfect(n):\n",
        "    #\"\"\"\n",
        "    #Funkcja powinna sprawdzać, czy dana liczba n jest doskonała\n",
        "    #https://pl.wikipedia.org/wiki/Liczba_doskona%C5%82a\n",
        "    #\"\"\"\n",
        "    return suma_dzielnikow(n)==n"
      ]
    },
    {
      "cell_type": "code",
      "execution_count": 179,
      "metadata": {
        "id": "Dof26kyQwJ6Q",
        "outputId": "5f04f601-9b84-44c2-8e98-0f48ffdd6b01",
        "colab": {
          "base_uri": "https://localhost:8080/"
        }
      },
      "outputs": [
        {
          "output_type": "stream",
          "name": "stdout",
          "text": [
            "True\n",
            "True\n",
            "True\n"
          ]
        }
      ],
      "source": [
        "print(is_perfect(6) is True)\n",
        "print(is_perfect(28) is True)\n",
        "print(is_perfect(7) is False)"
      ]
    },
    {
      "cell_type": "code",
      "execution_count": 180,
      "metadata": {
        "id": "SwdHzVQbwJ6Q"
      },
      "outputs": [],
      "source": [
        "import math\n",
        "def suma_dzielnikow_2(n):\n",
        "  dzielniki = []\n",
        "  for i in range(1, int(math.sqrt(n)+1)):\n",
        "    if n%i == 0 and n!=i:\n",
        "      dzielniki.append(i)\n",
        "      if i != n//i and n//i!=n:\n",
        "        dzielniki.append(n//i)\n",
        "  return sum(dzielniki)\n",
        "\n",
        "def is_perfect2(n):\n",
        "    #\"\"\"\n",
        "    #Funkcja powinna sprawdzać, czy dana liczba n jest doskonała\n",
        "    #https://pl.wikipedia.org/wiki/Liczba_doskona%C5%82a\n",
        "    #\"\"\"\n",
        "    return suma_dzielnikow_2(n)==n"
      ]
    },
    {
      "cell_type": "code",
      "execution_count": 181,
      "metadata": {
        "id": "l_q0XA18wJ6Q",
        "outputId": "8d46cd82-db8b-40b2-81b2-87027c5d063a",
        "colab": {
          "base_uri": "https://localhost:8080/"
        }
      },
      "outputs": [
        {
          "output_type": "stream",
          "name": "stdout",
          "text": [
            "True\n",
            "True\n",
            "True\n"
          ]
        }
      ],
      "source": [
        "print(is_perfect2(6) is True)\n",
        "print(is_perfect2(28) is True)\n",
        "print(is_perfect2(7) is False)"
      ]
    },
    {
      "cell_type": "markdown",
      "metadata": {
        "id": "PYXugXCBwJ6Q"
      },
      "source": [
        "## Zadanie dodatkowe\n",
        "Można za nie zdobyć punkty z aktywności, równiez oddając je za tydzień.\n",
        "\n",
        "Dla zadanej tablicy o długości $n$ zawierającej liczby całkowite większe od zera.\n",
        "Chcemy znaleźć podtablice, że $m$ kolejnych elementów sumuje się do $d$.\n",
        "\n",
        "Napisz funkcję która dla danych $m$, $d$ i sekwencję liczb całkowitych większych od zera $tab$, wypisze na ile sposobów można stworzyć taką podtablice?\n",
        "\n",
        "Przykładowo, niech $m=2$, $d=3$, a czekolada składa się z $tab = [1,2,1,3,2]$. Chcemy znaleźć takie dwa (bo m=2) elementy pod rząd, których suma da nam $d=3$. Jest to pierwszy i drugi element lub drugi i trzeci.\n",
        "\n",
        "\n",
        "**Napisz program, który działa w czasie liniowym.**"
      ]
    },
    {
      "cell_type": "code",
      "execution_count": 182,
      "metadata": {
        "collapsed": true,
        "id": "RDNLCf7KwJ6Q"
      },
      "outputs": [],
      "source": [
        "def solve(d, m, tab):\n",
        "  wynik=0\n",
        "  for i in range(len(tab)):\n",
        "    if sum(tab[i:(i+m)]) == d and i+m<=len(tab):\n",
        "      wynik+=1\n",
        "  return wynik"
      ]
    },
    {
      "cell_type": "code",
      "execution_count": 183,
      "metadata": {
        "collapsed": true,
        "id": "FLF3iZzcwJ6Q"
      },
      "outputs": [],
      "source": [
        "tab=[1, 2, 1, 3, 2]\n",
        "d=3\n",
        "m=2\n",
        "tab1=[1, 1, 1, 1, 1, 1]\n",
        "d1=3\n",
        "m1=2\n",
        "tab2=[4,1,3,4,1,1,1,1,1,1,1]\n",
        "d2=4\n",
        "m2=4"
      ]
    },
    {
      "cell_type": "code",
      "execution_count": 184,
      "metadata": {
        "collapsed": true,
        "id": "-zNvoE1UwJ6R",
        "outputId": "1a860fb8-eb4f-4275-c3d3-b1a4101e1deb",
        "colab": {
          "base_uri": "https://localhost:8080/"
        }
      },
      "outputs": [
        {
          "output_type": "stream",
          "name": "stdout",
          "text": [
            "True\n",
            "True\n",
            "True\n"
          ]
        }
      ],
      "source": [
        "print(solve(d, m, tab)==2)\n",
        "print(solve(d1, m1, tab1)==0)\n",
        "print(solve(d2, m2, tab2)==4)"
      ]
    },
    {
      "cell_type": "markdown",
      "metadata": {
        "id": "_qnsd3WowJ6R"
      },
      "source": [
        "## Zadanie dodatkowe 2\n",
        "Można za nie zdobyć punkty z aktywności, również oddając je za tydzień.\n",
        "\n",
        "Napisz definicję funkcji HowManyIntegers(N), która zwróci jak wiele liczb z zakresu [1,N) składa się wyłącznie z cyfr {0,2,7,9}. <br><br>\n",
        "Czyli np. <br>\n",
        "HowManyIntegers(1) = 0 <br>\n",
        "HowManyIntegers(10) = 3 # 2,7,9 <br>\n",
        "HowManyIntegers(28) = 6 # 2,7,9,20,22,27 <br>\n",
        "\n",
        "Twoje rozwiązanie powinno mieć jak najmniej niebiałych znaków. Czy uda się w 69? A może da się jeszcze mniej?"
      ]
    },
    {
      "cell_type": "code",
      "execution_count": 185,
      "metadata": {
        "id": "OpJxVxhhwJ6R",
        "outputId": "d31568fc-f8ba-49bf-aaba-42affc7cafd2",
        "colab": {
          "base_uri": "https://localhost:8080/"
        }
      },
      "outputs": [
        {
          "output_type": "stream",
          "name": "stdout",
          "text": [
            "True\n",
            "True\n",
            "True\n"
          ]
        }
      ],
      "source": [
        "import re\n",
        "def HowManyIntegers(n):\n",
        "    return sum(1 for x in range(n) if re.match('^[0279]+$',str(x)))-1\n",
        "\n",
        "print(HowManyIntegers(1) == 0)\n",
        "print(HowManyIntegers(10) == 3) # 2,7,9\n",
        "print(HowManyIntegers(28) == 6) # 2,7,9,20,22,27"
      ]
    },
    {
      "cell_type": "markdown",
      "metadata": {
        "id": "OXHlz6BjwJ6R"
      },
      "source": [
        "## Bonusy\n",
        "\n",
        "\"Dodatkowe\" pakiety Pythona"
      ]
    },
    {
      "cell_type": "code",
      "execution_count": null,
      "metadata": {
        "collapsed": true,
        "id": "1lGATTVMwJ6R"
      },
      "outputs": [],
      "source": [
        "# flying\n",
        "import antigravity"
      ]
    },
    {
      "cell_type": "code",
      "execution_count": null,
      "metadata": {
        "collapsed": true,
        "id": "Ti7suFcewJ6R"
      },
      "outputs": [],
      "source": [
        "# PEP20\n",
        "import this"
      ]
    },
    {
      "cell_type": "code",
      "execution_count": null,
      "metadata": {
        "collapsed": true,
        "id": "dTpCQpNiwJ6S"
      },
      "outputs": [],
      "source": [
        "# A poem\n",
        "love = this\n",
        "\n",
        "this is love, love is not True or False, love is love"
      ]
    },
    {
      "cell_type": "code",
      "execution_count": null,
      "metadata": {
        "collapsed": true,
        "id": "EqvToLp2wJ6S"
      },
      "outputs": [],
      "source": [
        "# Nie lubię wcięć, chce używać nawiasów {} do bloków kodu\n",
        "from __future__ import braces"
      ]
    }
  ],
  "metadata": {
    "kernelspec": {
      "display_name": "Python 3 (ipykernel)",
      "language": "python",
      "name": "python3"
    },
    "language_info": {
      "codemirror_mode": {
        "name": "ipython",
        "version": 3
      },
      "file_extension": ".py",
      "mimetype": "text/x-python",
      "name": "python",
      "nbconvert_exporter": "python",
      "pygments_lexer": "ipython3",
      "version": "3.9.9"
    },
    "colab": {
      "provenance": []
    }
  },
  "nbformat": 4,
  "nbformat_minor": 0
}